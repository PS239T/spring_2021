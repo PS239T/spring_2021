{
 "cells": [
  {
   "cell_type": "code",
   "execution_count": 1,
   "id": "graphic-counter",
   "metadata": {},
   "outputs": [],
   "source": [
    "%%bash \n",
    "\n",
    "echo \"test\" > test \n"
   ]
  },
  {
   "cell_type": "code",
   "execution_count": 2,
   "id": "greek-geometry",
   "metadata": {},
   "outputs": [],
   "source": [
    "%%bash \n",
    "\n",
    "for i in {1..100}; do cp test \"test_$i\"; done  \n"
   ]
  },
  {
   "cell_type": "code",
   "execution_count": 3,
   "id": "organic-joint",
   "metadata": {},
   "outputs": [],
   "source": [
    "%%bash \n",
    "\n",
    "echo \"COVID\" >> test_100 \n"
   ]
  },
  {
   "cell_type": "code",
   "execution_count": 4,
   "id": "regulated-check",
   "metadata": {},
   "outputs": [
    {
     "name": "stdout",
     "output_type": "stream",
     "text": [
      "test\n",
      "COVID\n"
     ]
    }
   ],
   "source": [
    "%%bash \n",
    "\n",
    "cat test_100 \n"
   ]
  },
  {
   "cell_type": "code",
   "execution_count": 6,
   "id": "reported-nancy",
   "metadata": {},
   "outputs": [
    {
     "name": "stdout",
     "output_type": "stream",
     "text": [
      "test_100:2:COVID\n"
     ]
    }
   ],
   "source": [
    "%%bash \n",
    "\n",
    "grep -rnw -e \"COVID\" \n"
   ]
  },
  {
   "cell_type": "code",
   "execution_count": null,
   "id": "lonely-glenn",
   "metadata": {},
   "outputs": [],
   "source": [
    "%%bash \n",
    "\n",
    "rm test_* test \n"
   ]
  },
  {
   "cell_type": "code",
   "execution_count": 8,
   "id": "champion-happiness",
   "metadata": {},
   "outputs": [
    {
     "name": "stdout",
     "output_type": "stream",
     "text": [
      "jae\n"
     ]
    }
   ],
   "source": [
    "%%bash \n",
    "\n",
    "whoami"
   ]
  },
  {
   "cell_type": "code",
   "execution_count": 9,
   "id": "stretch-blair",
   "metadata": {},
   "outputs": [
    {
     "name": "stdout",
     "output_type": "stream",
     "text": [
      "/home/jae/spring_2021/lecture_notes/week1/exercises\n"
     ]
    }
   ],
   "source": [
    "%%bash \n",
    "\n",
    "pwd"
   ]
  },
  {
   "cell_type": "code",
   "execution_count": null,
   "id": "crucial-affiliate",
   "metadata": {},
   "outputs": [],
   "source": [
    "%%bash \n",
    "\n",
    "ping 8.8.8.8"
   ]
  },
  {
   "cell_type": "code",
   "execution_count": null,
   "id": "premier-found",
   "metadata": {},
   "outputs": [],
   "source": [
    "%%bash \n"
   ]
  },
  {
   "cell_type": "code",
   "execution_count": null,
   "id": "juvenile-rally",
   "metadata": {},
   "outputs": [],
   "source": [
    "%%bash \n"
   ]
  },
  {
   "cell_type": "code",
   "execution_count": null,
   "id": "upset-investigator",
   "metadata": {},
   "outputs": [],
   "source": [
    "%%bash \n"
   ]
  },
  {
   "cell_type": "code",
   "execution_count": null,
   "id": "revised-clear",
   "metadata": {},
   "outputs": [],
   "source": [
    "%%bash \n"
   ]
  },
  {
   "cell_type": "code",
   "execution_count": null,
   "id": "current-opinion",
   "metadata": {},
   "outputs": [],
   "source": [
    "%%bash \n"
   ]
  },
  {
   "cell_type": "code",
   "execution_count": null,
   "id": "incorporate-green",
   "metadata": {},
   "outputs": [],
   "source": [
    "%%bash \n"
   ]
  },
  {
   "cell_type": "code",
   "execution_count": null,
   "id": "advanced-assumption",
   "metadata": {},
   "outputs": [],
   "source": [
    "%%bash \n"
   ]
  },
  {
   "cell_type": "code",
   "execution_count": null,
   "id": "different-alabama",
   "metadata": {},
   "outputs": [],
   "source": [
    "%%bash \n"
   ]
  },
  {
   "cell_type": "code",
   "execution_count": null,
   "id": "patent-adelaide",
   "metadata": {},
   "outputs": [],
   "source": [
    "%%bash \n"
   ]
  },
  {
   "cell_type": "code",
   "execution_count": null,
   "id": "abandoned-section",
   "metadata": {},
   "outputs": [],
   "source": [
    "%%bash \n"
   ]
  },
  {
   "cell_type": "code",
   "execution_count": null,
   "id": "academic-politics",
   "metadata": {},
   "outputs": [],
   "source": [
    "%%bash \n"
   ]
  },
  {
   "cell_type": "code",
   "execution_count": null,
   "id": "associate-operation",
   "metadata": {},
   "outputs": [],
   "source": [
    "%%bash \n"
   ]
  },
  {
   "cell_type": "code",
   "execution_count": null,
   "id": "similar-butter",
   "metadata": {},
   "outputs": [],
   "source": [
    "%%bash \n"
   ]
  },
  {
   "cell_type": "code",
   "execution_count": null,
   "id": "arctic-hands",
   "metadata": {},
   "outputs": [],
   "source": [
    "%%bash \n"
   ]
  },
  {
   "cell_type": "code",
   "execution_count": null,
   "id": "experienced-event",
   "metadata": {},
   "outputs": [],
   "source": [
    "%%bash \n"
   ]
  },
  {
   "cell_type": "code",
   "execution_count": null,
   "id": "developing-manor",
   "metadata": {},
   "outputs": [],
   "source": [
    "%%bash \n"
   ]
  },
  {
   "cell_type": "code",
   "execution_count": null,
   "id": "close-result",
   "metadata": {},
   "outputs": [],
   "source": [
    "%%bash \n"
   ]
  },
  {
   "cell_type": "code",
   "execution_count": null,
   "id": "beautiful-tackle",
   "metadata": {},
   "outputs": [],
   "source": [
    "%%bash \n"
   ]
  },
  {
   "cell_type": "code",
   "execution_count": null,
   "id": "entitled-arizona",
   "metadata": {},
   "outputs": [],
   "source": [
    "%%bash \n"
   ]
  },
  {
   "cell_type": "code",
   "execution_count": null,
   "id": "going-mozambique",
   "metadata": {},
   "outputs": [],
   "source": [
    "%%bash \n"
   ]
  },
  {
   "cell_type": "code",
   "execution_count": null,
   "id": "medium-grenada",
   "metadata": {},
   "outputs": [],
   "source": [
    "%%bash \n"
   ]
  },
  {
   "cell_type": "code",
   "execution_count": null,
   "id": "scenic-publisher",
   "metadata": {},
   "outputs": [],
   "source": [
    "%%bash \n"
   ]
  },
  {
   "cell_type": "code",
   "execution_count": null,
   "id": "civic-graphic",
   "metadata": {},
   "outputs": [],
   "source": [
    "%%bash \n"
   ]
  },
  {
   "cell_type": "code",
   "execution_count": null,
   "id": "waiting-participation",
   "metadata": {},
   "outputs": [],
   "source": [
    "%%bash \n"
   ]
  },
  {
   "cell_type": "code",
   "execution_count": null,
   "id": "russian-processing",
   "metadata": {},
   "outputs": [],
   "source": [
    "%%bash \n"
   ]
  },
  {
   "cell_type": "code",
   "execution_count": null,
   "id": "affecting-royal",
   "metadata": {},
   "outputs": [],
   "source": [
    "%%bash \n"
   ]
  },
  {
   "cell_type": "code",
   "execution_count": null,
   "id": "expected-focus",
   "metadata": {},
   "outputs": [],
   "source": [
    "%%bash \n"
   ]
  },
  {
   "cell_type": "code",
   "execution_count": null,
   "id": "otherwise-consultation",
   "metadata": {},
   "outputs": [],
   "source": [
    "%%bash \n"
   ]
  },
  {
   "cell_type": "code",
   "execution_count": null,
   "id": "turkish-state",
   "metadata": {},
   "outputs": [],
   "source": [
    "%%bash \n"
   ]
  },
  {
   "cell_type": "code",
   "execution_count": null,
   "id": "advance-observation",
   "metadata": {},
   "outputs": [],
   "source": [
    "%%bash \n"
   ]
  },
  {
   "cell_type": "code",
   "execution_count": null,
   "id": "assisted-applicant",
   "metadata": {},
   "outputs": [],
   "source": [
    "%%bash \n"
   ]
  },
  {
   "cell_type": "code",
   "execution_count": null,
   "id": "automotive-camera",
   "metadata": {},
   "outputs": [],
   "source": [
    "%%bash \n"
   ]
  },
  {
   "cell_type": "code",
   "execution_count": null,
   "id": "material-steal",
   "metadata": {},
   "outputs": [],
   "source": [
    "%%bash \n"
   ]
  },
  {
   "cell_type": "code",
   "execution_count": null,
   "id": "upset-hardware",
   "metadata": {},
   "outputs": [],
   "source": [
    "%%bash \n"
   ]
  },
  {
   "cell_type": "code",
   "execution_count": null,
   "id": "suitable-night",
   "metadata": {},
   "outputs": [],
   "source": [
    "%%bash \n"
   ]
  },
  {
   "cell_type": "code",
   "execution_count": null,
   "id": "composite-conspiracy",
   "metadata": {},
   "outputs": [],
   "source": [
    "%%bash \n"
   ]
  },
  {
   "cell_type": "code",
   "execution_count": null,
   "id": "varying-outdoors",
   "metadata": {},
   "outputs": [],
   "source": [
    "%%bash \n"
   ]
  },
  {
   "cell_type": "code",
   "execution_count": null,
   "id": "spatial-funeral",
   "metadata": {},
   "outputs": [],
   "source": [
    "%%bash \n"
   ]
  },
  {
   "cell_type": "code",
   "execution_count": null,
   "id": "advance-lawsuit",
   "metadata": {},
   "outputs": [],
   "source": [
    "%%bash \n"
   ]
  },
  {
   "cell_type": "code",
   "execution_count": null,
   "id": "divided-playlist",
   "metadata": {},
   "outputs": [],
   "source": [
    "%%bash \n"
   ]
  },
  {
   "cell_type": "code",
   "execution_count": null,
   "id": "broke-batch",
   "metadata": {},
   "outputs": [],
   "source": [
    "%%bash \n"
   ]
  },
  {
   "cell_type": "code",
   "execution_count": null,
   "id": "united-cylinder",
   "metadata": {},
   "outputs": [],
   "source": [
    "%%bash \n"
   ]
  },
  {
   "cell_type": "code",
   "execution_count": null,
   "id": "pediatric-embassy",
   "metadata": {},
   "outputs": [],
   "source": [
    "%%bash \n"
   ]
  }
 ],
 "metadata": {
  "kernelspec": {
   "display_name": "Python 3",
   "language": "python",
   "name": "python3"
  },
  "language_info": {
   "codemirror_mode": {
    "name": "ipython",
    "version": 3
   },
   "file_extension": ".py",
   "mimetype": "text/x-python",
   "name": "python",
   "nbconvert_exporter": "python",
   "pygments_lexer": "ipython3",
   "version": "3.7.7"
  },
  "toc": {
   "base_numbering": 1,
   "nav_menu": {},
   "number_sections": true,
   "sideBar": true,
   "skip_h1_title": false,
   "title_cell": "Table of Contents",
   "title_sidebar": "Contents",
   "toc_cell": false,
   "toc_position": {},
   "toc_section_display": true,
   "toc_window_display": false
  }
 },
 "nbformat": 4,
 "nbformat_minor": 5
}
