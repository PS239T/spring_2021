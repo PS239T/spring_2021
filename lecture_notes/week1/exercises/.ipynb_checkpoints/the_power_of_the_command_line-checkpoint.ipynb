{
 "cells": [
  {
   "cell_type": "code",
   "execution_count": null,
   "id": "accessory-reputation",
   "metadata": {},
   "outputs": [],
   "source": [
    "%%bash \n",
    "\n",
    "echo \"test\" > test \n"
   ]
  },
  {
   "cell_type": "code",
   "execution_count": null,
   "id": "pursuant-storage",
   "metadata": {},
   "outputs": [],
   "source": [
    "%%bash \n",
    "\n",
    "for i in {1..100}; do cp test \"test_$i\"; done  \n"
   ]
  },
  {
   "cell_type": "code",
   "execution_count": null,
   "id": "computational-classification",
   "metadata": {},
   "outputs": [],
   "source": [
    "%%bash \n",
    "\n",
    "echo \"COVID\" >> test_100 \n"
   ]
  },
  {
   "cell_type": "code",
   "execution_count": null,
   "id": "dated-northern",
   "metadata": {},
   "outputs": [],
   "source": [
    "%%bash \n",
    "\n",
    "cat test_100 \n"
   ]
  },
  {
   "cell_type": "code",
   "execution_count": null,
   "id": "mental-ivory",
   "metadata": {},
   "outputs": [],
   "source": [
    "%%bash \n",
    "\n",
    "grep -rnw -e \"COVID\" \n"
   ]
  },
  {
   "cell_type": "code",
   "execution_count": null,
   "id": "identical-southwest",
   "metadata": {},
   "outputs": [],
   "source": [
    "%%bash \n",
    "\n",
    "rm test_* test \n"
   ]
  },
  {
   "cell_type": "code",
   "execution_count": null,
   "id": "pressing-success",
   "metadata": {},
   "outputs": [],
   "source": [
    "%%bash \n",
    "\n",
    "whoami"
   ]
  },
  {
   "cell_type": "code",
   "execution_count": null,
   "id": "joined-paragraph",
   "metadata": {},
   "outputs": [],
   "source": [
    "%%bash \n",
    "\n",
    "pwd"
   ]
  },
  {
   "cell_type": "code",
   "execution_count": null,
   "id": "conscious-final",
   "metadata": {},
   "outputs": [],
   "source": [
    "%%bash \n",
    "\n",
    "ls "
   ]
  },
  {
   "cell_type": "code",
   "execution_count": null,
   "id": "vulnerable-virtue",
   "metadata": {},
   "outputs": [],
   "source": [
    "%%bash \n",
    "\n",
    "ls -l"
   ]
  },
  {
   "cell_type": "code",
   "execution_count": null,
   "id": "aerial-tumor",
   "metadata": {},
   "outputs": [],
   "source": [
    "%%bash \n",
    "\n",
    "ls -F"
   ]
  },
  {
   "cell_type": "code",
   "execution_count": null,
   "id": "popular-dryer",
   "metadata": {},
   "outputs": [],
   "source": [
    "%%bash \n",
    "\n",
    "cd .. "
   ]
  },
  {
   "cell_type": "code",
   "execution_count": null,
   "id": "political-elephant",
   "metadata": {},
   "outputs": [],
   "source": [
    "%%bash \n",
    "\n",
    "find *.csv"
   ]
  },
  {
   "cell_type": "code",
   "execution_count": null,
   "id": "married-arrangement",
   "metadata": {},
   "outputs": [],
   "source": [
    "%%bash \n",
    "\n",
    "find *.csv | less "
   ]
  },
  {
   "cell_type": "code",
   "execution_count": null,
   "id": "parliamentary-valuation",
   "metadata": {},
   "outputs": [],
   "source": [
    "%%bash \n",
    "\n",
    "ls -t | find *.csv | head -n1 "
   ]
  },
  {
   "cell_type": "code",
   "execution_count": null,
   "id": "sufficient-absorption",
   "metadata": {},
   "outputs": [],
   "source": [
    "%%bash \n",
    "\n",
    "mkdir exercises "
   ]
  },
  {
   "cell_type": "code",
   "execution_count": null,
   "id": "modern-tribune",
   "metadata": {},
   "outputs": [],
   "source": [
    "%%bash \n",
    "\n",
    "cd exercise | touch test ; ls"
   ]
  },
  {
   "cell_type": "code",
   "execution_count": null,
   "id": "infrared-disney",
   "metadata": {},
   "outputs": [],
   "source": [
    "%%bash \n",
    "\n",
    "cat test"
   ]
  },
  {
   "cell_type": "code",
   "execution_count": null,
   "id": "rapid-vegetarian",
   "metadata": {},
   "outputs": [],
   "source": [
    "%%bash \n",
    "\n",
    "echo \"something\" test ; cat test"
   ]
  },
  {
   "cell_type": "code",
   "execution_count": null,
   "id": "given-links",
   "metadata": {},
   "outputs": [],
   "source": [
    "%%bash \n",
    "\n",
    "echo \"anything\" >> test"
   ]
  },
  {
   "cell_type": "code",
   "execution_count": null,
   "id": "rough-priest",
   "metadata": {},
   "outputs": [],
   "source": [
    "%%bash \n",
    "\n",
    "cp test test_1"
   ]
  },
  {
   "cell_type": "code",
   "execution_count": null,
   "id": "judicial-sending",
   "metadata": {},
   "outputs": [],
   "source": [
    "%%bash \n",
    "\n",
    "for i in {1..100}; do cp test \"test_$i\"; done  "
   ]
  },
  {
   "cell_type": "code",
   "execution_count": null,
   "id": "alpine-humidity",
   "metadata": {},
   "outputs": [],
   "source": [
    "%%bash \n",
    "\n",
    "rm test_*"
   ]
  },
  {
   "cell_type": "code",
   "execution_count": null,
   "id": "above-mainstream",
   "metadata": {},
   "outputs": [],
   "source": [
    "%%bash \n",
    "\n",
    "mkdir exercise_1 ; mkdir exercise_2 "
   ]
  },
  {
   "cell_type": "code",
   "execution_count": null,
   "id": "widespread-sherman",
   "metadata": {},
   "outputs": [],
   "source": [
    "%%bash \n",
    "\n",
    "find exer*"
   ]
  },
  {
   "cell_type": "code",
   "execution_count": null,
   "id": "gorgeous-creativity",
   "metadata": {},
   "outputs": [],
   "source": [
    "%%bash \n",
    "\n",
    "touch exercise_1/test "
   ]
  },
  {
   "cell_type": "code",
   "execution_count": null,
   "id": "impressive-beginning",
   "metadata": {},
   "outputs": [],
   "source": [
    "%%bash \n",
    "\n",
    "cd exercise_1 ; ls "
   ]
  },
  {
   "cell_type": "code",
   "execution_count": null,
   "id": "proved-billion",
   "metadata": {},
   "outputs": [],
   "source": [
    "%%bash \n",
    "\n",
    "mv test ../exercise_2 "
   ]
  },
  {
   "cell_type": "code",
   "execution_count": null,
   "id": "unable-gallery",
   "metadata": {},
   "outputs": [],
   "source": [
    "%%bash \n",
    "\n",
    "cd exercise_2 ; ls "
   ]
  },
  {
   "cell_type": "code",
   "execution_count": null,
   "id": "useful-stations",
   "metadata": {},
   "outputs": [],
   "source": [
    "%%bash \n",
    "\n",
    "cat billionaires.csv | head -n2"
   ]
  },
  {
   "cell_type": "code",
   "execution_count": null,
   "id": "engaging-springer",
   "metadata": {},
   "outputs": [],
   "source": [
    "%%bash \n",
    "\n",
    "wc -l billionaires.csv"
   ]
  },
  {
   "cell_type": "code",
   "execution_count": null,
   "id": "animal-coordinator",
   "metadata": {},
   "outputs": [],
   "source": [
    "%%bash \n",
    "\n",
    "awk '/China/ {print}' billionaires.csv | head -n5"
   ]
  }
 ],
 "metadata": {
  "kernelspec": {
   "display_name": "Python 3",
   "language": "python",
   "name": "python3"
  },
  "language_info": {
   "codemirror_mode": {
    "name": "ipython",
    "version": 3
   },
   "file_extension": ".py",
   "mimetype": "text/x-python",
   "name": "python",
   "nbconvert_exporter": "python",
   "pygments_lexer": "ipython3",
   "version": "3.7.7"
  },
  "toc": {
   "base_numbering": 1,
   "nav_menu": {},
   "number_sections": true,
   "sideBar": true,
   "skip_h1_title": false,
   "title_cell": "Table of Contents",
   "title_sidebar": "Contents",
   "toc_cell": false,
   "toc_position": {},
   "toc_section_display": true,
   "toc_window_display": false
  }
 },
 "nbformat": 4,
 "nbformat_minor": 5
}
