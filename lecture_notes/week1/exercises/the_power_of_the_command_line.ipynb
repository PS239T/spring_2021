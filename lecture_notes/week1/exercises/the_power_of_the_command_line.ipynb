{
 "cells": [
  {
   "cell_type": "code",
   "execution_count": 1,
   "id": "superb-convertible",
   "metadata": {},
   "outputs": [],
   "source": [
    "%%bash \n",
    "\n",
    "echo \"test\" > test \n"
   ]
  },
  {
   "cell_type": "code",
   "execution_count": 2,
   "id": "retained-minnesota",
   "metadata": {},
   "outputs": [],
   "source": [
    "%%bash \n",
    "\n",
    "for i in {1..100}; do cp test \"test_$i\"; done  \n"
   ]
  },
  {
   "cell_type": "code",
   "execution_count": 3,
   "id": "worst-verse",
   "metadata": {},
   "outputs": [],
   "source": [
    "%%bash \n",
    "\n",
    "echo \"COVID\" >> test_100 \n"
   ]
  },
  {
   "cell_type": "code",
   "execution_count": 4,
   "id": "potential-color",
   "metadata": {},
   "outputs": [
    {
     "name": "stdout",
     "output_type": "stream",
     "text": [
      "test\n",
      "COVID\n"
     ]
    }
   ],
   "source": [
    "%%bash \n",
    "\n",
    "cat test_100 \n"
   ]
  },
  {
   "cell_type": "code",
   "execution_count": 5,
   "id": "nuclear-dollar",
   "metadata": {},
   "outputs": [
    {
     "name": "stdout",
     "output_type": "stream",
     "text": [
      "test_100:2:COVID\n",
      "the_power_of_the_command_line.ipynb:36:    \"echo \\\"COVID\\\" >> test_100 \\n\"\n",
      "the_power_of_the_command_line.ipynb:50:      \"COVID\\n\"\n",
      "the_power_of_the_command_line.ipynb:70:      \"test_100:2:COVID\\n\",\n",
      "the_power_of_the_command_line.ipynb:71:      \"the_power_of_the_command_line.ipynb:36:    \\\"echo \\\\\\\"COVID\\\\\\\" >> test_100 \\\\n\\\"\\n\",\n",
      "the_power_of_the_command_line.ipynb:72:      \"the_power_of_the_command_line.ipynb:50:      \\\"COVID\\\\n\\\"\\n\",\n",
      "the_power_of_the_command_line.ipynb:73:      \"the_power_of_the_command_line.ipynb:70:      \\\"test_100:2:COVID\\\\n\\\"\\n\",\n",
      "the_power_of_the_command_line.ipynb:74:      \"the_power_of_the_command_line.ipynb:77:    \\\"grep -rnw -e \\\\\\\"COVID\\\\\\\" \\\\n\\\"\\n\",\n",
      "the_power_of_the_command_line.ipynb:75:      \".ipynb_checkpoints/the_power_of_the_command_line-checkpoint.ipynb:36:    \\\"echo \\\\\\\"COVID\\\\\\\" >> test_100 \\\\n\\\"\\n\",\n",
      "the_power_of_the_command_line.ipynb:76:      \".ipynb_checkpoints/the_power_of_the_command_line-checkpoint.ipynb:50:      \\\"COVID\\\\n\\\"\\n\",\n",
      "the_power_of_the_command_line.ipynb:77:      \".ipynb_checkpoints/the_power_of_the_command_line-checkpoint.ipynb:70:      \\\"test_100:2:COVID\\\\n\\\"\\n\",\n",
      "the_power_of_the_command_line.ipynb:78:      \".ipynb_checkpoints/the_power_of_the_command_line-checkpoint.ipynb:77:    \\\"grep -rnw -e \\\\\\\"COVID\\\\\\\" \\\\n\\\"\\n\"\n",
      "the_power_of_the_command_line.ipynb:85:    \"grep -rnw -e \\\"COVID\\\" \\n\"\n",
      ".ipynb_checkpoints/the_power_of_the_command_line-checkpoint.ipynb:36:    \"echo \\\"COVID\\\" >> test_100 \\n\"\n",
      ".ipynb_checkpoints/the_power_of_the_command_line-checkpoint.ipynb:50:      \"COVID\\n\"\n",
      ".ipynb_checkpoints/the_power_of_the_command_line-checkpoint.ipynb:70:      \"test_100:2:COVID\\n\"\n",
      ".ipynb_checkpoints/the_power_of_the_command_line-checkpoint.ipynb:77:    \"grep -rnw -e \\\"COVID\\\" \\n\"\n"
     ]
    }
   ],
   "source": [
    "%%bash \n",
    "\n",
    "grep -rnw -e \"COVID\" \n"
   ]
  },
  {
   "cell_type": "code",
   "execution_count": 6,
   "id": "systematic-support",
   "metadata": {},
   "outputs": [],
   "source": [
    "%%bash \n",
    "\n",
    "rm test_* test \n"
   ]
  },
  {
   "cell_type": "code",
   "execution_count": 7,
   "id": "miniature-rover",
   "metadata": {},
   "outputs": [
    {
     "name": "stdout",
     "output_type": "stream",
     "text": [
      "jae\n"
     ]
    }
   ],
   "source": [
    "%%bash \n",
    "\n",
    "whoami"
   ]
  },
  {
   "cell_type": "code",
   "execution_count": 8,
   "id": "virgin-turkey",
   "metadata": {},
   "outputs": [
    {
     "name": "stdout",
     "output_type": "stream",
     "text": [
      "/home/jae/spring_2021/lecture_notes/week1/exercises\n"
     ]
    }
   ],
   "source": [
    "%%bash \n",
    "\n",
    "pwd"
   ]
  },
  {
   "cell_type": "code",
   "execution_count": 9,
   "id": "binary-centre",
   "metadata": {},
   "outputs": [
    {
     "name": "stdout",
     "output_type": "stream",
     "text": [
      "billionaires.csv\n",
      "the_power_of_the_command_line.ipynb\n"
     ]
    }
   ],
   "source": [
    "%%bash \n",
    "\n",
    "ls "
   ]
  },
  {
   "cell_type": "code",
   "execution_count": 10,
   "id": "nasty-equivalent",
   "metadata": {},
   "outputs": [
    {
     "name": "stdout",
     "output_type": "stream",
     "text": [
      "total 612\n",
      "-rw-rw-r-- 1 jae jae 607861 Nov 15 10:37 billionaires.csv\n",
      "-rw-rw-r-- 1 jae jae  15806 Jan 24 16:31 the_power_of_the_command_line.ipynb\n"
     ]
    }
   ],
   "source": [
    "%%bash \n",
    "\n",
    "ls -l"
   ]
  },
  {
   "cell_type": "code",
   "execution_count": 11,
   "id": "proved-gender",
   "metadata": {},
   "outputs": [
    {
     "name": "stdout",
     "output_type": "stream",
     "text": [
      "billionaires.csv\n",
      "the_power_of_the_command_line.ipynb\n"
     ]
    }
   ],
   "source": [
    "%%bash \n",
    "\n",
    "ls -F"
   ]
  },
  {
   "cell_type": "code",
   "execution_count": 12,
   "id": "japanese-courage",
   "metadata": {},
   "outputs": [],
   "source": [
    "%%bash \n",
    "\n",
    "cd .. "
   ]
  },
  {
   "cell_type": "code",
   "execution_count": 13,
   "id": "statistical-bullet",
   "metadata": {},
   "outputs": [
    {
     "name": "stdout",
     "output_type": "stream",
     "text": [
      "billionaires.csv\n"
     ]
    }
   ],
   "source": [
    "%%bash \n",
    "\n",
    "find *.csv"
   ]
  },
  {
   "cell_type": "code",
   "execution_count": 14,
   "id": "collaborative-qualification",
   "metadata": {},
   "outputs": [
    {
     "name": "stdout",
     "output_type": "stream",
     "text": [
      "billionaires.csv\n"
     ]
    }
   ],
   "source": [
    "%%bash \n",
    "\n",
    "find *.csv | less "
   ]
  },
  {
   "cell_type": "code",
   "execution_count": 15,
   "id": "consistent-kingston",
   "metadata": {},
   "outputs": [
    {
     "name": "stdout",
     "output_type": "stream",
     "text": [
      "billionaires.csv\n"
     ]
    }
   ],
   "source": [
    "%%bash \n",
    "\n",
    "ls -t | find *.csv | head -n1 "
   ]
  },
  {
   "cell_type": "code",
   "execution_count": 16,
   "id": "derived-laser",
   "metadata": {},
   "outputs": [],
   "source": [
    "%%bash \n",
    "\n",
    "mkdir exercises "
   ]
  },
  {
   "cell_type": "code",
   "execution_count": 17,
   "id": "bronze-charter",
   "metadata": {},
   "outputs": [
    {
     "name": "stdout",
     "output_type": "stream",
     "text": [
      "billionaires.csv\n",
      "exercises\n",
      "test\n",
      "the_power_of_the_command_line.ipynb\n"
     ]
    },
    {
     "name": "stderr",
     "output_type": "stream",
     "text": [
      "bash: line 2: cd: exercise: No such file or directory\n"
     ]
    }
   ],
   "source": [
    "%%bash \n",
    "\n",
    "cd exercise | touch test ; ls"
   ]
  },
  {
   "cell_type": "code",
   "execution_count": 18,
   "id": "seasonal-chinese",
   "metadata": {},
   "outputs": [],
   "source": [
    "%%bash \n",
    "\n",
    "cat test"
   ]
  },
  {
   "cell_type": "code",
   "execution_count": 19,
   "id": "changed-jewel",
   "metadata": {},
   "outputs": [
    {
     "name": "stdout",
     "output_type": "stream",
     "text": [
      "something test\n"
     ]
    }
   ],
   "source": [
    "%%bash \n",
    "\n",
    "echo \"something\" test ; cat test"
   ]
  },
  {
   "cell_type": "code",
   "execution_count": 20,
   "id": "considerable-citizenship",
   "metadata": {},
   "outputs": [],
   "source": [
    "%%bash \n",
    "\n",
    "echo \"anything\" >> test"
   ]
  },
  {
   "cell_type": "code",
   "execution_count": 21,
   "id": "interesting-curtis",
   "metadata": {},
   "outputs": [],
   "source": [
    "%%bash \n",
    "\n",
    "cp test test_1"
   ]
  },
  {
   "cell_type": "code",
   "execution_count": 22,
   "id": "liquid-ozone",
   "metadata": {},
   "outputs": [],
   "source": [
    "%%bash \n",
    "\n",
    "for i in {1..100}; do cp test \"test_$i\"; done  "
   ]
  },
  {
   "cell_type": "code",
   "execution_count": 23,
   "id": "coated-festival",
   "metadata": {},
   "outputs": [],
   "source": [
    "%%bash \n",
    "\n",
    "rm test_*"
   ]
  },
  {
   "cell_type": "code",
   "execution_count": 24,
   "id": "cordless-income",
   "metadata": {},
   "outputs": [],
   "source": [
    "%%bash \n",
    "\n",
    "mkdir exercise_1 ; mkdir exercise_2 "
   ]
  },
  {
   "cell_type": "code",
   "execution_count": 25,
   "id": "attempted-kitchen",
   "metadata": {},
   "outputs": [
    {
     "name": "stdout",
     "output_type": "stream",
     "text": [
      "exercise_1\n",
      "exercise_2\n",
      "exercises\n"
     ]
    }
   ],
   "source": [
    "%%bash \n",
    "\n",
    "find exer*"
   ]
  },
  {
   "cell_type": "code",
   "execution_count": 26,
   "id": "split-surrey",
   "metadata": {},
   "outputs": [],
   "source": [
    "%%bash \n",
    "\n",
    "touch exercise_1/test "
   ]
  },
  {
   "cell_type": "code",
   "execution_count": 27,
   "id": "studied-independence",
   "metadata": {},
   "outputs": [
    {
     "name": "stdout",
     "output_type": "stream",
     "text": [
      "test\n"
     ]
    }
   ],
   "source": [
    "%%bash \n",
    "\n",
    "cd exercise_1 ; ls "
   ]
  },
  {
   "cell_type": "code",
   "execution_count": 28,
   "id": "featured-corps",
   "metadata": {},
   "outputs": [],
   "source": [
    "%%bash \n",
    "\n",
    "mv test ../exercise_2 "
   ]
  },
  {
   "cell_type": "code",
   "execution_count": 29,
   "id": "active-interview",
   "metadata": {},
   "outputs": [],
   "source": [
    "%%bash \n",
    "\n",
    "cd exercise_2 ; ls "
   ]
  },
  {
   "cell_type": "code",
   "execution_count": 30,
   "id": "massive-summer",
   "metadata": {},
   "outputs": [
    {
     "name": "stdout",
     "output_type": "stream",
     "text": [
      "\"name\",\"rank\",\"year\",\"company.founded\",\"company.name\",\"company.relationship\",\"company.sector\",\"company.type\",\"demographics.age\",\"demographics.gender\",\"location.citizenship\",\"location.country code\",\"location.gdp\",\"location.region\",\"wealth.type\",\"wealth.worth in billions\",\"wealth.how.category\",\"wealth.how.from emerging\",\"wealth.how.industry\",\"wealth.how.inherited\",\"wealth.how.was founder\",\"wealth.how.was political\"\n",
      "\"Bill Gates\",\"1\",\"1996\",\"1975\",\"Microsoft\",\"founder\",\" Software\",\"new\",\"40\",\"male\",\"United States\",\"USA\",\"8100000000000.0\",\"North America\",\"founder non-finance\",\"18.5\",\"New Sectors\",\"True\",\"Technology-Computer\",\"not inherited\",\"True\",\"True\"\n"
     ]
    }
   ],
   "source": [
    "%%bash \n",
    "\n",
    "cat billionaires.csv | head -n2"
   ]
  },
  {
   "cell_type": "code",
   "execution_count": 31,
   "id": "statistical-trunk",
   "metadata": {},
   "outputs": [
    {
     "name": "stdout",
     "output_type": "stream",
     "text": [
      "2615 billionaires.csv\n"
     ]
    }
   ],
   "source": [
    "%%bash \n",
    "\n",
    "wc -l billionaires.csv"
   ]
  },
  {
   "cell_type": "code",
   "execution_count": 32,
   "id": "occupied-stadium",
   "metadata": {},
   "outputs": [
    {
     "name": "stdout",
     "output_type": "stream",
     "text": [
      "\"Wang Jianlin\",\"64\",\"2014\",\"1988\",\"Dalian Wanda Group\",\"founder\",\"real estate\",\"new\",\"59\",\"male\",\"China\",\"CHN\",\"0.0\",\"East Asia\",\"self-made finance\",\"15.1\",\"Financial\",\"True\",\"Real Estate\",\"not inherited\",\"True\",\"True\"\n",
      "\"Nina Wang\",\"80\",\"1996\",\"1960\",\"Chinachem Group\",\"relation\",\"chemicals\",\"new\",\"0\",\"female\",\"Hong Kong\",\"HKG\",\"160000000000.0\",\"East Asia\",\"inherited\",\"3.3\",\"Financial\",\"True\",\"Real Estate\",\"spouse/widow\",\"True\",\"True\"\n",
      "\"Ma Huateng\",\"80\",\"2014\",\"1998\",\"Tencent\",\"founder\",\"internet\",\"new\",\"42\",\"male\",\"China\",\"CHN\",\"0.0\",\"East Asia\",\"founder non-finance\",\"13.4\",\"New Sectors\",\"True\",\"Technology-Computer\",\"not inherited\",\"True\",\"True\"\n",
      "\"Robin Li\",\"91\",\"2014\",\"2000\",\"Baidu\",\"founder\",\"internet\",\"new\",\"45\",\"male\",\"China\",\"CHN\",\"0.0\",\"East Asia\",\"founder non-finance\",\"12.1\",\"New Sectors\",\"True\",\"Technology-Computer\",\"not inherited\",\"True\",\"True\"\n",
      "\"Zong Qinghou\",\"94\",\"2014\",\"1987\",\"Hangzhou Wahaha Group\",\"founder\",\"beverages\",\"new\",\"68\",\"male\",\"China\",\"CHN\",\"0.0\",\"East Asia\",\"founder non-finance\",\"11.6\",\"Traded Sectors\",\"True\",\"Consumer\",\"not inherited\",\"True\",\"True\"\n"
     ]
    }
   ],
   "source": [
    "%%bash \n",
    "\n",
    "awk '/China/ {print}' billionaires.csv | head -n5"
   ]
  }
 ],
 "metadata": {
  "kernelspec": {
   "display_name": "Python 3",
   "language": "python",
   "name": "python3"
  },
  "language_info": {
   "codemirror_mode": {
    "name": "ipython",
    "version": 3
   },
   "file_extension": ".py",
   "mimetype": "text/x-python",
   "name": "python",
   "nbconvert_exporter": "python",
   "pygments_lexer": "ipython3",
   "version": "3.7.7"
  },
  "toc": {
   "base_numbering": 1,
   "nav_menu": {},
   "number_sections": true,
   "sideBar": true,
   "skip_h1_title": false,
   "title_cell": "Table of Contents",
   "title_sidebar": "Contents",
   "toc_cell": false,
   "toc_position": {},
   "toc_section_display": true,
   "toc_window_display": false
  }
 },
 "nbformat": 4,
 "nbformat_minor": 5
}
