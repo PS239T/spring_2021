{
 "cells": [
  {
   "cell_type": "code",
   "execution_count": 1,
   "metadata": {
    "collapsed": false
   },
   "outputs": [],
   "source": [
    "# import required modules\n",
    "import requests\n",
    "from bs4 import BeautifulSoup"
   ]
  },
  {
   "cell_type": "code",
   "execution_count": 2,
   "metadata": {
    "collapsed": true
   },
   "outputs": [],
   "source": [
    "# make a GET request\n",
    "req = requests.get('https://www.pinterest.com/rachelibernhard/good-hair-days/')\n",
    "# read the content of the server’s response\n",
    "src = req.text"
   ]
  },
  {
   "cell_type": "code",
   "execution_count": 6,
   "metadata": {
    "collapsed": false
   },
   "outputs": [
    {
     "name": "stdout",
     "output_type": "stream",
     "text": [
      "<!DOCTYPE html>\n",
      "<!--[if IE 9 ]><html lang=\"en\" class=\"ielt10 en\"><![endif]-->\n",
      "<!--[if (gt IE 9)|!(IE)]><!-->\n",
      "<html class=\"en\" lang=\"en\">\n",
      " <!--<![endif]-->\n",
      " <head>\n",
      "  <meta charset=\"utf-8\"/>\n",
      "  <meta content=\"on\" http-equiv=\"x-dns-prefetch-control\"/>\n",
      "  <script async=\"\" defer=\"\" src=\"https://s-media-cache-ak0.pinimg.com/assets/js/warm.js?_=1476140072293\">\n",
      "  </script>\n",
      "  <link href=\"https://s-passets-cache-ak0.pinimg.com/webapp/style/sprites/webapp-common-above_the_fold-1x-7c08b13a.png\" rel=\"subresource\"/>\n",
      "  <link href=\"https://chrome.google.com/webstore/detail/gpdjojdkbbmdfjfahjcgigfpmkopogic\" rel=\"chrome-webstore-item\"/>\n",
      "  <meta content=\"width=device-width, initial-scale=1, user-scalable=no\" id=\"viewport\" name=\"viewport\"/>\n",
      "  <script>\n",
      "   window.isMainPinterestSite = true;\n",
      "        \n",
      "\n",
      "        \n",
      "        var Pc = {\n",
      "    \"categoryKeyToDisplayName\": {\n",
      "        \"shop\": \"Shop our picks\",\n",
      "        \"corgis\": \"Corgis\",\n",
      "        \"fashion\": \"Fashion\",\n",
      "        \"art\": \"Art\",\n",
      "        \"health_fitness\": \"Health an\n"
     ]
    }
   ],
   "source": [
    "# parse the response into an HTML tree\n",
    "soup = BeautifulSoup(src, \"lxml\")\n",
    "print(soup.prettify()[:1000])"
   ]
  },
  {
   "cell_type": "code",
   "execution_count": 5,
   "metadata": {
    "collapsed": false
   },
   "outputs": [
    {
     "data": {
      "text/plain": [
       "[]"
      ]
     },
     "execution_count": 5,
     "metadata": {},
     "output_type": "execute_result"
    }
   ],
   "source": [
    "# get the image info for the pinned images\n",
    "soup(\"img\", class_=\"pinImg fullBleed\")"
   ]
  },
  {
   "cell_type": "code",
   "execution_count": 8,
   "metadata": {
    "collapsed": false
   },
   "outputs": [],
   "source": [
    "# get all the pinterest permalinks (note: not the original links!)\n",
    "links = []\n",
    "for link in soup(\"img\", class_=\"pinImageWrapper draggable\"):\n",
    "    links.append(link['src'])\n",
    "    print(links)"
   ]
  },
  {
   "cell_type": "code",
   "execution_count": 77,
   "metadata": {
    "collapsed": false
   },
   "outputs": [],
   "source": [
    "# get all the pinterest names to use for files \n",
    "# names = []\n",
    "# for link in soup(\"img\", class_=\"pinImg fullBleed\"):\n",
    "  #  names.append(link['alt'][:10])"
   ]
  },
  {
   "cell_type": "code",
   "execution_count": 68,
   "metadata": {
    "collapsed": false
   },
   "outputs": [
    {
     "name": "stdout",
     "output_type": "stream",
     "text": [
      "['c5b5.jpg', 'a0bc.jpg', '95a4.jpg', 'b981.jpg', 'ffb5.jpg', 'd82e.jpg', '2773.jpg', 'b886.jpg', '4d00.jpg', '9018.jpg', '60e3.jpg', '880e.jpg', 'c270.jpg', '40e4.jpg', '8ad9.jpg', 'd6fa.jpg', '35cd.jpg', '0a4f.jpg', '663c.jpg', 'f131.jpg', 'f0d4.jpg', 'fbf1.jpg', 'd49d.jpg', 'c71c.jpg', '3def.jpg']\n"
     ]
    }
   ],
   "source": [
    "extensions = []\n",
    "for link in soup(\"img\", class_=\"pinImg fullBleed\"):\n",
    "    extensions.append(link['src'][-8:])\n",
    "    \n",
    "print extensions"
   ]
  },
  {
   "cell_type": "code",
   "execution_count": 2,
   "metadata": {
    "collapsed": false
   },
   "outputs": [],
   "source": [
    "import urllib"
   ]
  },
  {
   "cell_type": "code",
   "execution_count": 3,
   "metadata": {
    "collapsed": false
   },
   "outputs": [
    {
     "data": {
      "text/plain": [
       "('/Users/Rachel1/Desktop/Hair/test.jpg',\n",
       " <httplib.HTTPMessage instance at 0x1048e6a70>)"
      ]
     },
     "execution_count": 3,
     "metadata": {},
     "output_type": "execute_result"
    }
   ],
   "source": [
    "# Test - downloads single picture and specifies file destination\n",
    "urllib.urlretrieve(\"https://s-media-cache-ak0.pinimg.com/236x/ae/c2/5c/aec25c4d9c2bb0b0d4400955b19aad3f.jpg\",\"/Users/Rachel1/Desktop/Hair/test.jpg\")"
   ]
  },
  {
   "cell_type": "code",
   "execution_count": 71,
   "metadata": {
    "collapsed": false
   },
   "outputs": [
    {
     "name": "stdout",
     "output_type": "stream",
     "text": [
      "['/Users/Rachel1/Desktop/Hair/placeholderc5b5.jpg', '/Users/Rachel1/Desktop/Hair/placeholdera0bc.jpg', '/Users/Rachel1/Desktop/Hair/placeholder95a4.jpg', '/Users/Rachel1/Desktop/Hair/placeholderb981.jpg', '/Users/Rachel1/Desktop/Hair/placeholderffb5.jpg', '/Users/Rachel1/Desktop/Hair/placeholderd82e.jpg', '/Users/Rachel1/Desktop/Hair/placeholder2773.jpg', '/Users/Rachel1/Desktop/Hair/placeholderb886.jpg', '/Users/Rachel1/Desktop/Hair/placeholder4d00.jpg', '/Users/Rachel1/Desktop/Hair/placeholder9018.jpg', '/Users/Rachel1/Desktop/Hair/placeholder60e3.jpg', '/Users/Rachel1/Desktop/Hair/placeholder880e.jpg', '/Users/Rachel1/Desktop/Hair/placeholderc270.jpg', '/Users/Rachel1/Desktop/Hair/placeholder40e4.jpg', '/Users/Rachel1/Desktop/Hair/placeholder8ad9.jpg', '/Users/Rachel1/Desktop/Hair/placeholderd6fa.jpg', '/Users/Rachel1/Desktop/Hair/placeholder35cd.jpg', '/Users/Rachel1/Desktop/Hair/placeholder0a4f.jpg', '/Users/Rachel1/Desktop/Hair/placeholder663c.jpg', '/Users/Rachel1/Desktop/Hair/placeholderf131.jpg', '/Users/Rachel1/Desktop/Hair/placeholderf0d4.jpg', '/Users/Rachel1/Desktop/Hair/placeholderfbf1.jpg', '/Users/Rachel1/Desktop/Hair/placeholderd49d.jpg', '/Users/Rachel1/Desktop/Hair/placeholderc71c.jpg', '/Users/Rachel1/Desktop/Hair/placeholder3def.jpg']\n"
     ]
    }
   ],
   "source": [
    "fileloc = [\"/Users/Rachel1/Desktop/Hair/\"]*len(extensions)\n",
    "placeholders = [\"placeholder\"]*len(extensions)\n",
    "\n",
    "folders = []\n",
    "\n",
    "for i in xrange(len(names)):\n",
    "    folders.append(\"%s%s%s\" % (fileloc[i],placeholders[i],extensions[i]))\n",
    "    \n",
    "print folders"
   ]
  },
  {
   "cell_type": "code",
   "execution_count": 84,
   "metadata": {
    "collapsed": false
   },
   "outputs": [],
   "source": [
    "def getstuff(a,b):\n",
    "    urllib.urlretrieve(a,b)\n",
    "    \n",
    "getstuff(\"https://s-media-cache-ak0.pinimg.com/236x/ae/c2/5c/aec25c4d9c2bb0b0d4400955b19aad3f.jpg\",\"/Users/Rachel1/Desktop/Hair/test.jpg\")"
   ]
  },
  {
   "cell_type": "code",
   "execution_count": 88,
   "metadata": {
    "collapsed": false
   },
   "outputs": [
    {
     "name": "stdout",
     "output_type": "stream",
     "text": [
      "h\n"
     ]
    }
   ],
   "source": [
    "print "
   ]
  },
  {
   "cell_type": "code",
   "execution_count": 90,
   "metadata": {
    "collapsed": false
   },
   "outputs": [],
   "source": [
    "for link, folder in zip(links, folders):\n",
    "    getstuff(link, folder)      \n",
    "    \n",
    "    # IT WORKED!!!!!"
   ]
  },
  {
   "cell_type": "code",
   "execution_count": 102,
   "metadata": {
    "collapsed": false
   },
   "outputs": [
    {
     "data": {
      "text/plain": [
       "[]"
      ]
     },
     "execution_count": 102,
     "metadata": {},
     "output_type": "execute_result"
    }
   ],
   "source": []
  },
  {
   "cell_type": "code",
   "execution_count": 101,
   "metadata": {
    "collapsed": false
   },
   "outputs": [
    {
     "name": "stdout",
     "output_type": "stream",
     "text": [
      "[]\n",
      "[]\n"
     ]
    }
   ],
   "source": []
  }
 ],
 "metadata": {
  "kernelspec": {
   "display_name": "Python [py3k]",
   "language": "python",
   "name": "Python [py3k]"
  },
  "language_info": {
   "codemirror_mode": {
    "name": "ipython",
    "version": 3
   },
   "file_extension": ".py",
   "mimetype": "text/x-python",
   "name": "python",
   "nbconvert_exporter": "python",
   "pygments_lexer": "ipython3",
   "version": "3.5.2"
  }
 },
 "nbformat": 4,
 "nbformat_minor": 0
}
