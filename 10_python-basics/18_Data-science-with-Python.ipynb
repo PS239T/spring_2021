{
 "cells": [
  {
   "cell_type": "markdown",
   "metadata": {},
   "source": [
    "The material is adapted from [The Python Data Science Handbook](https://jakevdp.github.io/PythonDataScienceHandbook/00.00-preface.html) by Jake VanderPlas.\n",
    "\n",
    "Previous modules cover Python basics. For data science tasks, you also need to be familiar with the following libraries:\n",
    "\n",
    "1. Numpy for manipulating dense data \n",
    "\n",
    "2. Pandas for manipulating labeled data \n",
    "\n",
    "3. Matplotlib for data visualization \n",
    "\n",
    "5. Scikit-Learn and Keras for machine learning (more likely we don't have time to cover these libraries to cover within this semeser.) \n"
   ]
  },
  {
   "cell_type": "code",
   "execution_count": null,
   "metadata": {},
   "outputs": [],
   "source": []
  }
 ],
 "metadata": {
  "kernelspec": {
   "display_name": "Python 3",
   "language": "python",
   "name": "python3"
  },
  "language_info": {
   "codemirror_mode": {
    "name": "ipython",
    "version": 3
   },
   "file_extension": ".py",
   "mimetype": "text/x-python",
   "name": "python",
   "nbconvert_exporter": "python",
   "pygments_lexer": "ipython3",
   "version": "3.6.6"
  }
 },
 "nbformat": 4,
 "nbformat_minor": 2
}
