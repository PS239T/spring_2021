{
 "cells": [
  {
   "cell_type": "markdown",
   "metadata": {},
   "source": [
    "# Conditionals\n",
    "\n",
    "**Time**\n",
    "\n",
    "- Teaching: 10 min\n",
    "- Exercises: 15 min\n",
    "\n",
    "**Questions**:\n",
    "\n",
    "- \"How can programs do different things for different data?\"\n",
    "\n",
    "**Learning Objectives**:\n",
    "\n",
    "- \"Correctly write programs that use if and else statements and simple [Boolean expressions](https://github.com/dlab-berkeley/python-intensive/blob/master/Glossary.md#boolean-operators) (without logical operators).\"\n",
    "- \"Trace the execution of unnested conditionals and conditionals inside loops.\"\n",
    "keypoints:\n",
    "- \"Use `if` statements to control whether or not a block of code is executed.\"\n",
    "- \"Conditionals are often used inside loops.\"\n",
    "- \"Use `else` to execute a block of code when an `if` condition is *not* true.\"\n",
    "- \"Use `elif` to specify additional tests.\"\n",
    "- \"Conditions are tested once, in order.\"\n",
    "* * * * *"
   ]
  },
  {
   "cell_type": "markdown",
   "metadata": {},
   "source": [
    "## Use `if` statements to control whether or not a block of code is executed.\n",
    "\n",
    "*   An `if` statement (more properly called a *conditional* statement)\n",
    "    controls whether some block of code is executed or not.\n",
    "*   Structure is similar to a `for` statement:\n",
    "    *   First line opens with `if` and ends with a colon\n",
    "    *   Body containing one or more statements is indented (usually by 4 spaces)\n"
   ]
  },
  {
   "cell_type": "code",
   "execution_count": null,
   "metadata": {},
   "outputs": [],
   "source": [
    "age = 84\n",
    "if age > 60:\n",
    "    print(age, 'is old')\n",
    "\n",
    "age = 20\n",
    "if age > 60:\n",
    "    print (age, 'is large')"
   ]
  },
  {
   "cell_type": "markdown",
   "metadata": {},
   "source": [
    "\n",
    "## Conditionals are often used inside loops.\n",
    "\n",
    "*   Not much point using a conditional when we know the value (as above).\n",
    "*   But useful when we have a collection to process."
   ]
  },
  {
   "cell_type": "code",
   "execution_count": null,
   "metadata": {},
   "outputs": [],
   "source": [
    "ages = [20, 43, 12, 88, 67]\n",
    "for age in ages:\n",
    "    if age > 60:\n",
    "        print(age, 'is old')"
   ]
  },
  {
   "cell_type": "markdown",
   "metadata": {},
   "source": [
    "## Use `else` to execute a block of code when an `if` condition is *not* true.\n",
    "\n",
    "*   `else` is always attached to `if`.\n",
    "*   Allows us to specify an alternative to execute when the `if` *branch* isn't taken.\n"
   ]
  },
  {
   "cell_type": "code",
   "execution_count": null,
   "metadata": {},
   "outputs": [],
   "source": [
    "ages = [20, 43, 12, 88, 67]\n",
    "for age in ages:\n",
    "    if age > 60:\n",
    "        print(age, 'is old')\n",
    "    else:\n",
    "        print(age, 'is not old')"
   ]
  },
  {
   "cell_type": "markdown",
   "metadata": {},
   "source": [
    "## Use `elif` to specify additional tests.\n",
    "\n",
    "*   May want to provide several alternative choices, each with its own test.\n",
    "*   Use `elif` (short for \"else if\") and a condition to specify these.\n",
    "*   Always associated with an `if`.\n",
    "*   Must come before the `else` (which is the \"catch all\")."
   ]
  },
  {
   "cell_type": "code",
   "execution_count": null,
   "metadata": {},
   "outputs": [],
   "source": [
    "ages = [20, 43, 12, 88, 67]\n",
    "for age in ages:\n",
    "    if age > 60:\n",
    "        print(age, 'is old')\n",
    "    elif age > 40:\n",
    "        print(age, 'is middle-aged')\n",
    "    else:\n",
    "        print(age, 'is young')"
   ]
  },
  {
   "cell_type": "markdown",
   "metadata": {},
   "source": [
    "# Use [boolean operators](https://github.com/dlab-berkeley/python-intensive/blob/master/Glossary.md#boolean-operators) to make complex statements\n",
    "\n",
    "I can also generate more complex conditional statements with boolean operators\n",
    "like **and** and **or**, and use comparators like \"<\", \">\""
   ]
  },
  {
   "cell_type": "code",
   "execution_count": null,
   "metadata": {},
   "outputs": [],
   "source": [
    "ages = [20, 43, 12, 88, 67]\n",
    "for age in ages:\n",
    "    if age > 65 or age < 16:\n",
    "        print(age, 'is outside the labor force')\n",
    "    else:\n",
    "        print(age, 'is in the labor force')"
   ]
  },
  {
   "cell_type": "markdown",
   "metadata": {},
   "source": [
    "## Conditions are tested once, in order.\n",
    "\n",
    "*   Python steps through the branches of the conditional in order, testing each in turn.\n",
    "*   So ordering matters."
   ]
  },
  {
   "cell_type": "code",
   "execution_count": null,
   "metadata": {},
   "outputs": [],
   "source": [
    "grade = 85\n",
    "if grade >= 70:\n",
    "    print('grade is C')\n",
    "elif grade >= 80:\n",
    "    print('grade is B')\n",
    "elif grade >= 90:\n",
    "    print('grade is A')"
   ]
  },
  {
   "cell_type": "markdown",
   "metadata": {},
   "source": [
    "*   Conditionals do *not* automatically go back and re-evaluate if values change."
   ]
  },
  {
   "cell_type": "code",
   "execution_count": null,
   "metadata": {},
   "outputs": [],
   "source": [
    "population = 10000\n",
    "if population > 200000:\n",
    "    print('large city')\n",
    "else:\n",
    "    print('small city')\n",
    "    population = 500000"
   ]
  },
  {
   "cell_type": "markdown",
   "metadata": {},
   "source": [
    "*   Often use conditionals in a loop to \"evolve\" the values of variables.\n"
   ]
  },
  {
   "cell_type": "code",
   "execution_count": null,
   "metadata": {},
   "outputs": [],
   "source": [
    "population = 10000\n",
    "for i in range(5): # execute the loop 5 times\n",
    "    print(i, ':', population)\n",
    "    if population > 200000:\n",
    "        print('large city')\n",
    "        population -= 5000\n",
    "    else:\n",
    "        print('small city')\n",
    "        population += 75000\n",
    "\n",
    "print('final population:', population)"
   ]
  },
  {
   "cell_type": "markdown",
   "metadata": {},
   "source": [
    "## Challenge 1: Trimming Values\n",
    "\n",
    "Fill in the blanks so that this program creates a new list\n",
    "containing zeroes where the original list's values were negative\n",
    "and ones where the original list's values were positive.\n"
   ]
  },
  {
   "cell_type": "code",
   "execution_count": null,
   "metadata": {},
   "outputs": [],
   "source": [
    "original = [-1.5, 0.2, 0.4, 0.0, -1.3, 0.4]\n",
    "result = ____\n",
    "for value in original:\n",
    "    if ____:\n",
    "        result.append(0)\n",
    "    else:\n",
    "        ____\n",
    "print(result)"
   ]
  },
  {
   "cell_type": "markdown",
   "metadata": {},
   "source": [
    "## Challenge 2: String Conditionals\n",
    "\n",
    "Here are our presidents again. Create a list of all the presidents whose last name starts with the letter B.\n"
   ]
  },
  {
   "cell_type": "code",
   "execution_count": null,
   "metadata": {
    "collapsed": true
   },
   "outputs": [],
   "source": [
    "presidents_full = [\"George Washington\", \"John Adams\", \"Thomas Jefferson\", \"James Madison\", \"James Monroe\", \\\n",
    "        \"John Quincy Adams\", \"Andrew Jackson\", \"Martin Van Buren\", \"William Henry Harrison\", \"John Tyler\", \\\n",
    "        \"James K. Polk\", \"Zachary Taylor\", \"Millard Fillmore\", \"Franklin Pierce\", \"James Buchanan\", \\\n",
    "        \"Abraham Lincoln\", \"Andrew Johnson\", \"Ulysses S. Grant\", \"Rutherford B. Hayes\", \"James A. Garfield\", \\\n",
    "        \"Chester A. Arthur\", \"Grover Cleveland\", \"Benjamin Harrison\", \"Grover Cleveland\", \"William McKinley\", \\\n",
    "        \"Theodore Roosevelt\", \"William Howard Taft\", \"Woodrow Wilson\", \"Warren G. Harding\", \"Calvin Coolidge\", \\\n",
    "        \"Herbert Hoover\", \"Franklin D. Roosevelt\", \"Harry S. Truman\", \"Dwight D. Eisenhower\", \"John F. Kennedy\", \\\n",
    "        \"Lyndon B. Johnson\", \"Richard Nixon\", \"Gerald Ford\", \"Jimmy Carter\", \"Ronald Reagan\", \"George H. W. Bush\", \\\n",
    "        \"Bill Clinton\", \"George W. Bush\", \"Barack Obama\"]"
   ]
  },
  {
   "cell_type": "code",
   "execution_count": null,
   "metadata": {
    "collapsed": true
   },
   "outputs": [],
   "source": []
  },
  {
   "cell_type": "markdown",
   "metadata": {
    "collapsed": true
   },
   "source": [
    "## Challenge 3: Find the rhyming words"
   ]
  },
  {
   "cell_type": "markdown",
   "metadata": {},
   "source": [
    "Below are the first two stanzas of \"row, row, row your boat\":"
   ]
  },
  {
   "cell_type": "code",
   "execution_count": null,
   "metadata": {
    "collapsed": true
   },
   "outputs": [],
   "source": [
    "song = '''Row, row, row your boat\n",
    "Gently down the stream,\n",
    "Merrily merrily, merrily, merrily\n",
    "Life is but a dream.\n",
    "\n",
    "Row, row, row your boat\n",
    "Gently down the brook,\n",
    "If you catch a little fish \n",
    "Let it off the hook.'''"
   ]
  },
  {
   "cell_type": "markdown",
   "metadata": {},
   "source": [
    "Using string methods, for loops, and conditionals, write some code to `print` only the rhyming words (HINT: we'll be simplistic and assume it rhymes if the last 3 characters are the same)"
   ]
  },
  {
   "cell_type": "code",
   "execution_count": null,
   "metadata": {
    "collapsed": true
   },
   "outputs": [],
   "source": []
  },
  {
   "cell_type": "markdown",
   "metadata": {
    "collapsed": true
   },
   "source": [
    "*****\n",
    "\n",
    "## Keypoints\n",
    "\n",
    "1. Use `if` statements to control whether or not a block of code is executed.\n",
    "2. Conditionals are often used inside loops.\n",
    "3. Use `else` to execute a block of code when an `if` condition is *not* true.\n",
    "4. Use `elif` to specify additional tests.\n",
    "5. Use boolean operators to make complex statements.\n",
    "6. Conditions are tested once, in order."
   ]
  },
  {
   "cell_type": "code",
   "execution_count": null,
   "metadata": {
    "collapsed": true
   },
   "outputs": [],
   "source": []
  }
 ],
 "metadata": {
  "kernelspec": {
   "display_name": "Python 3",
   "language": "python",
   "name": "python3"
  },
  "language_info": {
   "codemirror_mode": {
    "name": "ipython",
    "version": 3
   },
   "file_extension": ".py",
   "mimetype": "text/x-python",
   "name": "python",
   "nbconvert_exporter": "python",
   "pygments_lexer": "ipython3",
   "version": "3.6.6"
  }
 },
 "nbformat": 4,
 "nbformat_minor": 1
}
