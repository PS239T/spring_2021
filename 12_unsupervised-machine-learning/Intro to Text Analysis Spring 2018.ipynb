{
 "cells": [
  {
   "cell_type": "code",
   "execution_count": 34,
   "metadata": {
    "collapsed": false,
    "scrolled": true
   },
   "outputs": [
    {
     "name": "stdout",
     "output_type": "stream",
     "text": [
      "a string is a! sequence! of !characters\n",
      "['these', 'strings', 'are', 'stored', 'as', 'a', 'list', '!']\n",
      "['a string is a', ' sequence', ' of ', 'characters']\n"
     ]
    }
   ],
   "source": [
    "# Text as data: what are strings?\n",
    "\n",
    "sentence = 'a string is a! sequence! of !characters'\n",
    "\n",
    "words = ['these', 'strings', 'are', 'stored', 'as', 'a', 'list']\n",
    "words.append('!')\n",
    "\n",
    "print(sentence) #print is a function, hence parentheses ()\n",
    "print(words)\n",
    "print(sentence.split('!'))"
   ]
  },
  {
   "cell_type": "code",
   "execution_count": 4,
   "metadata": {
    "collapsed": false
   },
   "outputs": [
    {
     "data": {
      "text/plain": [
       "str"
      ]
     },
     "execution_count": 4,
     "metadata": {},
     "output_type": "execute_result"
    }
   ],
   "source": [
    "type(sentence)"
   ]
  },
  {
   "cell_type": "code",
   "execution_count": 5,
   "metadata": {
    "collapsed": false
   },
   "outputs": [
    {
     "data": {
      "text/plain": [
       "list"
      ]
     },
     "execution_count": 5,
     "metadata": {},
     "output_type": "execute_result"
    }
   ],
   "source": [
    "type(words)"
   ]
  },
  {
   "cell_type": "code",
   "execution_count": 6,
   "metadata": {
    "collapsed": false
   },
   "outputs": [
    {
     "data": {
      "text/plain": [
       "str"
      ]
     },
     "execution_count": 6,
     "metadata": {},
     "output_type": "execute_result"
    }
   ],
   "source": [
    "type(words[0]) # first item in list"
   ]
  },
  {
   "cell_type": "code",
   "execution_count": 9,
   "metadata": {
    "collapsed": false
   },
   "outputs": [
    {
     "name": "stdout",
     "output_type": "stream",
     "text": [
      "36\n",
      "7\n"
     ]
    }
   ],
   "source": [
    "print(len(sentence)) # length of characters\n",
    "print(len(sentence.split())) # length of list"
   ]
  },
  {
   "cell_type": "code",
   "execution_count": 10,
   "metadata": {
    "collapsed": false
   },
   "outputs": [
    {
     "data": {
      "text/plain": [
       "['a', 'string', 'is', 'a', 'sequence', 'of', 'characters']"
      ]
     },
     "execution_count": 10,
     "metadata": {},
     "output_type": "execute_result"
    }
   ],
   "source": [
    "sentence.split()"
   ]
  },
  {
   "cell_type": "code",
   "execution_count": 11,
   "metadata": {
    "collapsed": false
   },
   "outputs": [
    {
     "name": "stdout",
     "output_type": "stream",
     "text": [
      "Why does the Mueller team have 13 hardened Democrats, \n",
      " some big Crooked Hillary supporters, and Zero Republicans? \n",
      " Another Dem recently added. does anyone think this is fair? \n",
      " And yet, there is NO COLLUSION!\n"
     ]
    }
   ],
   "source": [
    "# let's use a random tweet from no one in particular\n",
    "\n",
    "tweet = \"\"\"Why does the Mueller team have 13 hardened Democrats, \n",
    " some big Crooked Hillary supporters, and Zero Republicans? \n",
    " Another Dem recently added. does anyone think this is fair? \n",
    " And yet, there is NO COLLUSION!\"\"\"\n",
    "\n",
    "# Triple quotes are used for strings that break across multiple lines\n",
    "\n",
    "print(tweet)"
   ]
  },
  {
   "cell_type": "code",
   "execution_count": 12,
   "metadata": {
    "collapsed": false
   },
   "outputs": [
    {
     "data": {
      "text/plain": [
       "str"
      ]
     },
     "execution_count": 12,
     "metadata": {},
     "output_type": "execute_result"
    }
   ],
   "source": [
    "type(tweet)"
   ]
  },
  {
   "cell_type": "code",
   "execution_count": 13,
   "metadata": {
    "collapsed": false
   },
   "outputs": [
    {
     "data": {
      "text/plain": [
       "'why does the mueller team have 13 hardened democrats, \\n some big crooked hillary supporters, and zero republicans? \\n another dem recently added. does anyone think this is fair? \\n and yet, there is no collusion!'"
      ]
     },
     "execution_count": 13,
     "metadata": {},
     "output_type": "execute_result"
    }
   ],
   "source": [
    "# string functions\n",
    "\n",
    "tweet.lower()"
   ]
  },
  {
   "cell_type": "code",
   "execution_count": 14,
   "metadata": {
    "collapsed": false
   },
   "outputs": [
    {
     "data": {
      "text/plain": [
       "'WHY DOES THE MUELLER TEAM HAVE 13 HARDENED DEMOCRATS, \\n SOME BIG CROOKED HILLARY SUPPORTERS, AND ZERO REPUBLICANS? \\n ANOTHER DEM RECENTLY ADDED. DOES ANYONE THINK THIS IS FAIR? \\n AND YET, THERE IS NO COLLUSION!'"
      ]
     },
     "execution_count": 14,
     "metadata": {},
     "output_type": "execute_result"
    }
   ],
   "source": [
    "# string functions\n",
    "\n",
    "tweet.upper()"
   ]
  },
  {
   "cell_type": "code",
   "execution_count": 15,
   "metadata": {
    "collapsed": false
   },
   "outputs": [
    {
     "data": {
      "text/plain": [
       "'Why does the Mueller team have 13 hardened Democrats, \\n some big Crooked Clinton supporters, and Zero Republicans? \\n Another Dem recently added. does anyone think this is fair? \\n And yet, there is NO COLLUSION!'"
      ]
     },
     "execution_count": 15,
     "metadata": {},
     "output_type": "execute_result"
    }
   ],
   "source": [
    "# string functions\n",
    "\n",
    "tweet.replace('Hillary','Clinton')"
   ]
  },
  {
   "cell_type": "code",
   "execution_count": 16,
   "metadata": {
    "collapsed": false
   },
   "outputs": [
    {
     "data": {
      "text/plain": [
       "['why',\n",
       " 'does',\n",
       " 'the',\n",
       " 'mueller',\n",
       " 'team',\n",
       " 'have',\n",
       " '13',\n",
       " 'hardened',\n",
       " 'democrats,',\n",
       " 'some',\n",
       " 'big',\n",
       " 'crooked',\n",
       " 'clinton',\n",
       " 'supporters,',\n",
       " 'and',\n",
       " 'zero',\n",
       " 'republicans?',\n",
       " 'another',\n",
       " 'dem',\n",
       " 'recently',\n",
       " 'added.',\n",
       " 'does',\n",
       " 'anyone',\n",
       " 'think',\n",
       " 'this',\n",
       " 'is',\n",
       " 'fair?',\n",
       " 'and',\n",
       " 'yet,',\n",
       " 'there',\n",
       " 'is',\n",
       " 'no',\n",
       " 'collusion!']"
      ]
     },
     "execution_count": 16,
     "metadata": {},
     "output_type": "execute_result"
    }
   ],
   "source": [
    "# you can combine functions\n",
    "\n",
    "tweet.replace('Hillary','Clinton').lower().split() # note the order"
   ]
  },
  {
   "cell_type": "code",
   "execution_count": 17,
   "metadata": {
    "collapsed": false
   },
   "outputs": [
    {
     "data": {
      "text/plain": [
       "['why',\n",
       " 'does',\n",
       " 'the',\n",
       " 'mueller',\n",
       " 'team',\n",
       " 'have',\n",
       " '13',\n",
       " 'hardened',\n",
       " 'democrats,',\n",
       " 'some',\n",
       " 'big',\n",
       " 'crooked',\n",
       " 'hillary',\n",
       " 'supporters,',\n",
       " 'and',\n",
       " 'zero',\n",
       " 'republicans?',\n",
       " 'another',\n",
       " 'dem',\n",
       " 'recently',\n",
       " 'added.',\n",
       " 'does',\n",
       " 'anyone',\n",
       " 'think',\n",
       " 'this',\n",
       " 'is',\n",
       " 'fair?',\n",
       " 'and',\n",
       " 'yet,',\n",
       " 'there',\n",
       " 'is',\n",
       " 'no',\n",
       " 'collusion!']"
      ]
     },
     "execution_count": 17,
     "metadata": {},
     "output_type": "execute_result"
    }
   ],
   "source": [
    "tweet.lower().replace('Hillary','Clinton').split() # hillary doesn't get replaced in this case"
   ]
  },
  {
   "cell_type": "code",
   "execution_count": 18,
   "metadata": {
    "collapsed": true
   },
   "outputs": [],
   "source": [
    "# lists of filter words\n",
    "\n",
    "stop_words = ['the', 'it', 'is', 'a', 'was', 'and', \n",
    "             'why', 'what', 'how', 'has', 'have', 'this', 'that']\n",
    "\n",
    "punctuation = [\".\", \",\" , \"?\", \"!\", \"#\", \"$\", '\\n']\n",
    "\n",
    "positive_words = ['fair','good', 'nice', 'super', 'fun', 'delightful', 'supporters']\n",
    "negative_words = ['no', 'crooked', 'collusion', 'bad', 'sad']"
   ]
  },
  {
   "cell_type": "code",
   "execution_count": 19,
   "metadata": {
    "collapsed": false
   },
   "outputs": [
    {
     "name": "stdout",
     "output_type": "stream",
     "text": [
      "['does', 'mueller', 'team', '13', 'hardened', 'democrats', 'some', 'big', 'crooked', 'hillary', 'supporters', 'zero', 'republicans', 'another', 'dem', 'recently', 'added', 'does', 'anyone', 'think', 'fair', 'yet', 'there', 'no', 'collusion']\n"
     ]
    }
   ],
   "source": [
    "# let's do some simple pre-processing of our tweet\n",
    "\n",
    "tweet_processed=tweet.lower() #convert to lowercase\n",
    "\n",
    "for p in punctuation:\n",
    "    tweet_processed=tweet_processed.replace(p,'') # erase punctuation\n",
    "\n",
    "words = tweet_processed.split() # store the processed tweet in an object called 'word'\n",
    "\n",
    "# remove stopwords and store remaining words in a new list\n",
    "results = []\n",
    "for word in words:\n",
    "    if word not in stop_words:\n",
    "        results.append(word)\n",
    "\n",
    "print(results)"
   ]
  },
  {
   "cell_type": "code",
   "execution_count": 22,
   "metadata": {
    "collapsed": false
   },
   "outputs": [
    {
     "data": {
      "text/plain": [
       "True"
      ]
     },
     "execution_count": 22,
     "metadata": {},
     "output_type": "execute_result"
    }
   ],
   "source": [
    "# list comprehension achieves same result as above in a single line\n",
    "\n",
    "list_comp = [vocab for vocab in words if vocab not in punctuation and vocab not in stop_words]\n",
    "\n",
    "list_comp == results"
   ]
  },
  {
   "cell_type": "code",
   "execution_count": 23,
   "metadata": {
    "collapsed": false
   },
   "outputs": [
    {
     "name": "stdout",
     "output_type": "stream",
     "text": [
      "['does', 'mueller', 'team', '13', 'hardened', 'democrats', 'some', 'big', 'crooked', 'hillary', 'supporters', 'zero', 'republicans', 'another', 'dem', 'recently', 'added', 'does', 'anyone', 'think', 'fair', 'yet', 'there', 'no', 'collusion']\n"
     ]
    }
   ],
   "source": [
    "print(list_comp)"
   ]
  },
  {
   "cell_type": "code",
   "execution_count": 24,
   "metadata": {
    "collapsed": false
   },
   "outputs": [
    {
     "name": "stdout",
     "output_type": "stream",
     "text": [
      "supporters is a positive word\n",
      "fair is a positive word\n",
      "crooked is a negative word\n",
      "no is a negative word\n",
      "collusion is a negative word\n"
     ]
    }
   ],
   "source": [
    "#which words are positive or negative?\n",
    "\n",
    "for word in words:\n",
    "    if word in positive_words:\n",
    "        print(word + ' is a positive word')\n",
    "        \n",
    "for word in words:\n",
    "    if word in negative_words:\n",
    "        print(word + ' is a negative word')"
   ]
  },
  {
   "cell_type": "code",
   "execution_count": 25,
   "metadata": {
    "collapsed": false
   },
   "outputs": [
    {
     "data": {
      "text/plain": [
       "['austen-emma.txt',\n",
       " 'austen-persuasion.txt',\n",
       " 'austen-sense.txt',\n",
       " 'bible-kjv.txt',\n",
       " 'blake-poems.txt',\n",
       " 'bryant-stories.txt',\n",
       " 'burgess-busterbrown.txt',\n",
       " 'carroll-alice.txt',\n",
       " 'chesterton-ball.txt',\n",
       " 'chesterton-brown.txt',\n",
       " 'chesterton-thursday.txt',\n",
       " 'edgeworth-parents.txt',\n",
       " 'melville-moby_dick.txt',\n",
       " 'milton-paradise.txt',\n",
       " 'shakespeare-caesar.txt',\n",
       " 'shakespeare-hamlet.txt',\n",
       " 'shakespeare-macbeth.txt',\n",
       " 'whitman-leaves.txt']"
      ]
     },
     "execution_count": 25,
     "metadata": {},
     "output_type": "execute_result"
    }
   ],
   "source": [
    "# NLTK: The Natural Language Tool Kit\n",
    "\n",
    "import nltk\n",
    "\n",
    "from nltk.corpus import gutenberg\n",
    "\n",
    "gutenberg.fileids() # these are the book corpora included in nltk"
   ]
  },
  {
   "cell_type": "code",
   "execution_count": 27,
   "metadata": {
    "collapsed": false
   },
   "outputs": [],
   "source": [
    "hamlet_words = gutenberg.words('shakespeare-hamlet.txt') #list of words\n",
    "hamlet_sents = gutenberg.sents('shakespeare-hamlet.txt') # list of sentences, each sentence is list\n",
    "hamlet_paras = gutenberg.paras('shakespeare-hamlet.txt') # list of pararaphs, each paragraph is a list"
   ]
  },
  {
   "cell_type": "code",
   "execution_count": 28,
   "metadata": {
    "collapsed": false
   },
   "outputs": [
    {
     "name": "stdout",
     "output_type": "stream",
     "text": [
      "['[', 'The', 'Tragedie', 'of', 'Hamlet']\n",
      "[['[', 'The', 'Tragedie', 'of', 'Hamlet', 'by', 'William', 'Shakespeare', '1599', ']'], ['Actus', 'Primus', '.'], ['Scoena', 'Prima', '.'], ['Enter', 'Barnardo', 'and', 'Francisco', 'two', 'Centinels', '.'], ['Barnardo', '.']]\n",
      "[[['[', 'The', 'Tragedie', 'of', 'Hamlet', 'by', 'William', 'Shakespeare', '1599', ']']], [['Actus', 'Primus', '.'], ['Scoena', 'Prima', '.']], [['Enter', 'Barnardo', 'and', 'Francisco', 'two', 'Centinels', '.']], [['Barnardo', '.'], ['Who', \"'\", 's', 'there', '?'], ['Fran', '.'], ['Nay', 'answer', 'me', ':', 'Stand', '&', 'vnfold', 'your', 'selfe']], [['Bar', '.'], ['Long', 'liue', 'the', 'King']]]\n"
     ]
    }
   ],
   "source": [
    "print(hamlet_words[0:5])\n",
    "print(hamlet_sents[0:5])\n",
    "print(hamlet_paras[0:5])"
   ]
  },
  {
   "cell_type": "code",
   "execution_count": 29,
   "metadata": {
    "collapsed": false
   },
   "outputs": [
    {
     "data": {
      "text/plain": [
       "['i',\n",
       " 'me',\n",
       " 'my',\n",
       " 'myself',\n",
       " 'we',\n",
       " 'our',\n",
       " 'ours',\n",
       " 'ourselves',\n",
       " 'you',\n",
       " 'your',\n",
       " 'yours',\n",
       " 'yourself',\n",
       " 'yourselves',\n",
       " 'he',\n",
       " 'him',\n",
       " 'his',\n",
       " 'himself',\n",
       " 'she',\n",
       " 'her',\n",
       " 'hers']"
      ]
     },
     "execution_count": 29,
     "metadata": {},
     "output_type": "execute_result"
    }
   ],
   "source": [
    "from nltk.corpus import stopwords\n",
    "stopwords.words('english')[:20] #the brackets are to index the first 20 items in the list"
   ]
  },
  {
   "cell_type": "code",
   "execution_count": 30,
   "metadata": {
    "collapsed": false
   },
   "outputs": [
    {
     "data": {
      "text/plain": [
       "['[',\n",
       " 'Tragedie',\n",
       " 'Hamlet',\n",
       " 'William',\n",
       " 'Shakespeare',\n",
       " '1599',\n",
       " ']',\n",
       " 'Actus',\n",
       " 'Primus',\n",
       " '.']"
      ]
     },
     "execution_count": 30,
     "metadata": {},
     "output_type": "execute_result"
    }
   ],
   "source": [
    "[word for word in hamlet_words if word.lower() not in stopwords.words('english')][:10] # first 10 items in the list"
   ]
  },
  {
   "cell_type": "code",
   "execution_count": 31,
   "metadata": {
    "collapsed": false
   },
   "outputs": [
    {
     "data": {
      "text/plain": [
       "['the',\n",
       " 'tragedie',\n",
       " 'of',\n",
       " 'hamlet',\n",
       " 'by',\n",
       " 'william',\n",
       " 'shakespeare',\n",
       " 'actus',\n",
       " 'primus',\n",
       " 'scoena']"
      ]
     },
     "execution_count": 31,
     "metadata": {},
     "output_type": "execute_result"
    }
   ],
   "source": [
    "[word.lower() for word in hamlet_words if word.isalpha()][:10] "
   ]
  },
  {
   "cell_type": "code",
   "execution_count": 32,
   "metadata": {
    "collapsed": false
   },
   "outputs": [
    {
     "name": "stdout",
     "output_type": "stream",
     "text": [
      "['releefe', 'much', 'thankes', ':', \"'\", 'Tis', 'bitter', 'cold', ',', 'And', 'I', 'am', 'sicke', 'at', 'heart', 'Barn', '.', 'Haue', 'you', 'had', 'quiet', 'Guard', '?', 'Fran', '.', 'Not', 'a', 'Mouse', 'stirring', 'Barn']\n",
      "['releef', 'much', 'thank', ':', \"'\", 'ti', 'bitter', 'cold', ',', 'and', 'I', 'am', 'sick', 'at', 'heart', 'barn', '.', 'haue', 'you', 'had', 'quiet', 'guard', '?', 'fran', '.', 'not', 'a', 'mous', 'stir', 'barn']\n"
     ]
    }
   ],
   "source": [
    "from nltk.stem.porter import PorterStemmer\n",
    "porter = nltk.PorterStemmer()\n",
    "\n",
    "print([word for word in hamlet_words[80:110]])\n",
    "print([porter.stem(word) for word in hamlet_words[80:110]])"
   ]
  },
  {
   "cell_type": "code",
   "execution_count": 33,
   "metadata": {
    "collapsed": false
   },
   "outputs": [
    {
     "data": {
      "text/plain": [
       "['I',\n",
       " \"'m\",\n",
       " 'gon',\n",
       " 'na',\n",
       " 'tokenize',\n",
       " 'this',\n",
       " 'sentence',\n",
       " 'into',\n",
       " 'a',\n",
       " 'list',\n",
       " 'of',\n",
       " 'words']"
      ]
     },
     "execution_count": 33,
     "metadata": {},
     "output_type": "execute_result"
    }
   ],
   "source": [
    "text = nltk.word_tokenize(\"I'm gonna tokenize this sentence into a list of words\")\n",
    "text"
   ]
  },
  {
   "cell_type": "code",
   "execution_count": 35,
   "metadata": {
    "collapsed": false
   },
   "outputs": [
    {
     "data": {
      "text/plain": [
       "['/Users/Fiona_Shen_Bayh/nltk_data/corpora/state_union/1945-Truman.txt',\n",
       " '/Users/Fiona_Shen_Bayh/nltk_data/corpora/state_union/1946-Truman.txt',\n",
       " '/Users/Fiona_Shen_Bayh/nltk_data/corpora/state_union/1947-Truman.txt',\n",
       " '/Users/Fiona_Shen_Bayh/nltk_data/corpora/state_union/1948-Truman.txt',\n",
       " '/Users/Fiona_Shen_Bayh/nltk_data/corpora/state_union/1949-Truman.txt',\n",
       " '/Users/Fiona_Shen_Bayh/nltk_data/corpora/state_union/1950-Truman.txt',\n",
       " '/Users/Fiona_Shen_Bayh/nltk_data/corpora/state_union/1951-Truman.txt',\n",
       " '/Users/Fiona_Shen_Bayh/nltk_data/corpora/state_union/1953-Eisenhower.txt',\n",
       " '/Users/Fiona_Shen_Bayh/nltk_data/corpora/state_union/1954-Eisenhower.txt',\n",
       " '/Users/Fiona_Shen_Bayh/nltk_data/corpora/state_union/1955-Eisenhower.txt',\n",
       " '/Users/Fiona_Shen_Bayh/nltk_data/corpora/state_union/1956-Eisenhower.txt',\n",
       " '/Users/Fiona_Shen_Bayh/nltk_data/corpora/state_union/1957-Eisenhower.txt',\n",
       " '/Users/Fiona_Shen_Bayh/nltk_data/corpora/state_union/1958-Eisenhower.txt',\n",
       " '/Users/Fiona_Shen_Bayh/nltk_data/corpora/state_union/1959-Eisenhower.txt',\n",
       " '/Users/Fiona_Shen_Bayh/nltk_data/corpora/state_union/1960-Eisenhower.txt',\n",
       " '/Users/Fiona_Shen_Bayh/nltk_data/corpora/state_union/1961-Kennedy.txt',\n",
       " '/Users/Fiona_Shen_Bayh/nltk_data/corpora/state_union/1962-Kennedy.txt',\n",
       " '/Users/Fiona_Shen_Bayh/nltk_data/corpora/state_union/1963-Johnson.txt',\n",
       " '/Users/Fiona_Shen_Bayh/nltk_data/corpora/state_union/1963-Kennedy.txt',\n",
       " '/Users/Fiona_Shen_Bayh/nltk_data/corpora/state_union/1964-Johnson.txt',\n",
       " '/Users/Fiona_Shen_Bayh/nltk_data/corpora/state_union/1965-Johnson-1.txt',\n",
       " '/Users/Fiona_Shen_Bayh/nltk_data/corpora/state_union/1965-Johnson-2.txt',\n",
       " '/Users/Fiona_Shen_Bayh/nltk_data/corpora/state_union/1966-Johnson.txt',\n",
       " '/Users/Fiona_Shen_Bayh/nltk_data/corpora/state_union/1967-Johnson.txt',\n",
       " '/Users/Fiona_Shen_Bayh/nltk_data/corpora/state_union/1968-Johnson.txt',\n",
       " '/Users/Fiona_Shen_Bayh/nltk_data/corpora/state_union/1969-Johnson.txt',\n",
       " '/Users/Fiona_Shen_Bayh/nltk_data/corpora/state_union/1970-Nixon.txt',\n",
       " '/Users/Fiona_Shen_Bayh/nltk_data/corpora/state_union/1971-Nixon.txt',\n",
       " '/Users/Fiona_Shen_Bayh/nltk_data/corpora/state_union/1972-Nixon.txt',\n",
       " '/Users/Fiona_Shen_Bayh/nltk_data/corpora/state_union/1973-Nixon.txt',\n",
       " '/Users/Fiona_Shen_Bayh/nltk_data/corpora/state_union/1974-Nixon.txt',\n",
       " '/Users/Fiona_Shen_Bayh/nltk_data/corpora/state_union/1975-Ford.txt',\n",
       " '/Users/Fiona_Shen_Bayh/nltk_data/corpora/state_union/1976-Ford.txt',\n",
       " '/Users/Fiona_Shen_Bayh/nltk_data/corpora/state_union/1977-Ford.txt',\n",
       " '/Users/Fiona_Shen_Bayh/nltk_data/corpora/state_union/1978-Carter.txt',\n",
       " '/Users/Fiona_Shen_Bayh/nltk_data/corpora/state_union/1979-Carter.txt',\n",
       " '/Users/Fiona_Shen_Bayh/nltk_data/corpora/state_union/1980-Carter.txt',\n",
       " '/Users/Fiona_Shen_Bayh/nltk_data/corpora/state_union/1981-Reagan.txt',\n",
       " '/Users/Fiona_Shen_Bayh/nltk_data/corpora/state_union/1982-Reagan.txt',\n",
       " '/Users/Fiona_Shen_Bayh/nltk_data/corpora/state_union/1983-Reagan.txt',\n",
       " '/Users/Fiona_Shen_Bayh/nltk_data/corpora/state_union/1984-Reagan.txt',\n",
       " '/Users/Fiona_Shen_Bayh/nltk_data/corpora/state_union/1985-Reagan.txt',\n",
       " '/Users/Fiona_Shen_Bayh/nltk_data/corpora/state_union/1986-Reagan.txt',\n",
       " '/Users/Fiona_Shen_Bayh/nltk_data/corpora/state_union/1987-Reagan.txt',\n",
       " '/Users/Fiona_Shen_Bayh/nltk_data/corpora/state_union/1988-Reagan.txt',\n",
       " '/Users/Fiona_Shen_Bayh/nltk_data/corpora/state_union/1989-Bush.txt',\n",
       " '/Users/Fiona_Shen_Bayh/nltk_data/corpora/state_union/1990-Bush.txt',\n",
       " '/Users/Fiona_Shen_Bayh/nltk_data/corpora/state_union/1991-Bush-1.txt',\n",
       " '/Users/Fiona_Shen_Bayh/nltk_data/corpora/state_union/1991-Bush-2.txt',\n",
       " '/Users/Fiona_Shen_Bayh/nltk_data/corpora/state_union/1992-Bush.txt',\n",
       " '/Users/Fiona_Shen_Bayh/nltk_data/corpora/state_union/1993-Clinton.txt',\n",
       " '/Users/Fiona_Shen_Bayh/nltk_data/corpora/state_union/1994-Clinton.txt',\n",
       " '/Users/Fiona_Shen_Bayh/nltk_data/corpora/state_union/1995-Clinton.txt',\n",
       " '/Users/Fiona_Shen_Bayh/nltk_data/corpora/state_union/1996-Clinton.txt',\n",
       " '/Users/Fiona_Shen_Bayh/nltk_data/corpora/state_union/1997-Clinton.txt',\n",
       " '/Users/Fiona_Shen_Bayh/nltk_data/corpora/state_union/1998-Clinton.txt',\n",
       " '/Users/Fiona_Shen_Bayh/nltk_data/corpora/state_union/1999-Clinton.txt',\n",
       " '/Users/Fiona_Shen_Bayh/nltk_data/corpora/state_union/2000-Clinton.txt',\n",
       " '/Users/Fiona_Shen_Bayh/nltk_data/corpora/state_union/2001-GWBush-1.txt',\n",
       " '/Users/Fiona_Shen_Bayh/nltk_data/corpora/state_union/2001-GWBush-2.txt',\n",
       " '/Users/Fiona_Shen_Bayh/nltk_data/corpora/state_union/2002-GWBush.txt',\n",
       " '/Users/Fiona_Shen_Bayh/nltk_data/corpora/state_union/2003-GWBush.txt',\n",
       " '/Users/Fiona_Shen_Bayh/nltk_data/corpora/state_union/2004-GWBush.txt',\n",
       " '/Users/Fiona_Shen_Bayh/nltk_data/corpora/state_union/2005-GWBush.txt',\n",
       " '/Users/Fiona_Shen_Bayh/nltk_data/corpora/state_union/2006-GWBush.txt',\n",
       " '/Users/Fiona_Shen_Bayh/nltk_data/corpora/state_union/README']"
      ]
     },
     "execution_count": 35,
     "metadata": {},
     "output_type": "execute_result"
    }
   ],
   "source": [
    "import os \n",
    "\n",
    "CORPUS_PATH = \"/Users/Fiona_Shen_Bayh/nltk_data/corpora/state_union/\"\n",
    "\n",
    "filenames = sorted([os.path.join(CORPUS_PATH, fn) for fn in os.listdir(CORPUS_PATH)])\n",
    "\n",
    "filenames"
   ]
  },
  {
   "cell_type": "code",
   "execution_count": 36,
   "metadata": {
    "collapsed": false
   },
   "outputs": [
    {
     "data": {
      "text/plain": [
       "'/Users/Fiona_Shen_Bayh/nltk_data/corpora/state_union/README'"
      ]
     },
     "execution_count": 36,
     "metadata": {},
     "output_type": "execute_result"
    }
   ],
   "source": [
    "filenames.pop(-1)"
   ]
  },
  {
   "cell_type": "code",
   "execution_count": 37,
   "metadata": {
    "collapsed": false
   },
   "outputs": [
    {
     "data": {
      "text/plain": [
       "['/Users/Fiona_Shen_Bayh/nltk_data/corpora/state_union/1945-Truman.txt',\n",
       " '/Users/Fiona_Shen_Bayh/nltk_data/corpora/state_union/1946-Truman.txt',\n",
       " '/Users/Fiona_Shen_Bayh/nltk_data/corpora/state_union/1947-Truman.txt',\n",
       " '/Users/Fiona_Shen_Bayh/nltk_data/corpora/state_union/1948-Truman.txt',\n",
       " '/Users/Fiona_Shen_Bayh/nltk_data/corpora/state_union/1949-Truman.txt',\n",
       " '/Users/Fiona_Shen_Bayh/nltk_data/corpora/state_union/1950-Truman.txt',\n",
       " '/Users/Fiona_Shen_Bayh/nltk_data/corpora/state_union/1951-Truman.txt',\n",
       " '/Users/Fiona_Shen_Bayh/nltk_data/corpora/state_union/1953-Eisenhower.txt',\n",
       " '/Users/Fiona_Shen_Bayh/nltk_data/corpora/state_union/1954-Eisenhower.txt',\n",
       " '/Users/Fiona_Shen_Bayh/nltk_data/corpora/state_union/1955-Eisenhower.txt',\n",
       " '/Users/Fiona_Shen_Bayh/nltk_data/corpora/state_union/1956-Eisenhower.txt',\n",
       " '/Users/Fiona_Shen_Bayh/nltk_data/corpora/state_union/1957-Eisenhower.txt',\n",
       " '/Users/Fiona_Shen_Bayh/nltk_data/corpora/state_union/1958-Eisenhower.txt',\n",
       " '/Users/Fiona_Shen_Bayh/nltk_data/corpora/state_union/1959-Eisenhower.txt',\n",
       " '/Users/Fiona_Shen_Bayh/nltk_data/corpora/state_union/1960-Eisenhower.txt',\n",
       " '/Users/Fiona_Shen_Bayh/nltk_data/corpora/state_union/1961-Kennedy.txt',\n",
       " '/Users/Fiona_Shen_Bayh/nltk_data/corpora/state_union/1962-Kennedy.txt',\n",
       " '/Users/Fiona_Shen_Bayh/nltk_data/corpora/state_union/1963-Johnson.txt',\n",
       " '/Users/Fiona_Shen_Bayh/nltk_data/corpora/state_union/1963-Kennedy.txt',\n",
       " '/Users/Fiona_Shen_Bayh/nltk_data/corpora/state_union/1964-Johnson.txt',\n",
       " '/Users/Fiona_Shen_Bayh/nltk_data/corpora/state_union/1965-Johnson-1.txt',\n",
       " '/Users/Fiona_Shen_Bayh/nltk_data/corpora/state_union/1965-Johnson-2.txt',\n",
       " '/Users/Fiona_Shen_Bayh/nltk_data/corpora/state_union/1966-Johnson.txt',\n",
       " '/Users/Fiona_Shen_Bayh/nltk_data/corpora/state_union/1967-Johnson.txt',\n",
       " '/Users/Fiona_Shen_Bayh/nltk_data/corpora/state_union/1968-Johnson.txt',\n",
       " '/Users/Fiona_Shen_Bayh/nltk_data/corpora/state_union/1969-Johnson.txt',\n",
       " '/Users/Fiona_Shen_Bayh/nltk_data/corpora/state_union/1970-Nixon.txt',\n",
       " '/Users/Fiona_Shen_Bayh/nltk_data/corpora/state_union/1971-Nixon.txt',\n",
       " '/Users/Fiona_Shen_Bayh/nltk_data/corpora/state_union/1972-Nixon.txt',\n",
       " '/Users/Fiona_Shen_Bayh/nltk_data/corpora/state_union/1973-Nixon.txt',\n",
       " '/Users/Fiona_Shen_Bayh/nltk_data/corpora/state_union/1974-Nixon.txt',\n",
       " '/Users/Fiona_Shen_Bayh/nltk_data/corpora/state_union/1975-Ford.txt',\n",
       " '/Users/Fiona_Shen_Bayh/nltk_data/corpora/state_union/1976-Ford.txt',\n",
       " '/Users/Fiona_Shen_Bayh/nltk_data/corpora/state_union/1977-Ford.txt',\n",
       " '/Users/Fiona_Shen_Bayh/nltk_data/corpora/state_union/1978-Carter.txt',\n",
       " '/Users/Fiona_Shen_Bayh/nltk_data/corpora/state_union/1979-Carter.txt',\n",
       " '/Users/Fiona_Shen_Bayh/nltk_data/corpora/state_union/1980-Carter.txt',\n",
       " '/Users/Fiona_Shen_Bayh/nltk_data/corpora/state_union/1981-Reagan.txt',\n",
       " '/Users/Fiona_Shen_Bayh/nltk_data/corpora/state_union/1982-Reagan.txt',\n",
       " '/Users/Fiona_Shen_Bayh/nltk_data/corpora/state_union/1983-Reagan.txt',\n",
       " '/Users/Fiona_Shen_Bayh/nltk_data/corpora/state_union/1984-Reagan.txt',\n",
       " '/Users/Fiona_Shen_Bayh/nltk_data/corpora/state_union/1985-Reagan.txt',\n",
       " '/Users/Fiona_Shen_Bayh/nltk_data/corpora/state_union/1986-Reagan.txt',\n",
       " '/Users/Fiona_Shen_Bayh/nltk_data/corpora/state_union/1987-Reagan.txt',\n",
       " '/Users/Fiona_Shen_Bayh/nltk_data/corpora/state_union/1988-Reagan.txt',\n",
       " '/Users/Fiona_Shen_Bayh/nltk_data/corpora/state_union/1989-Bush.txt',\n",
       " '/Users/Fiona_Shen_Bayh/nltk_data/corpora/state_union/1990-Bush.txt',\n",
       " '/Users/Fiona_Shen_Bayh/nltk_data/corpora/state_union/1991-Bush-1.txt',\n",
       " '/Users/Fiona_Shen_Bayh/nltk_data/corpora/state_union/1991-Bush-2.txt',\n",
       " '/Users/Fiona_Shen_Bayh/nltk_data/corpora/state_union/1992-Bush.txt',\n",
       " '/Users/Fiona_Shen_Bayh/nltk_data/corpora/state_union/1993-Clinton.txt',\n",
       " '/Users/Fiona_Shen_Bayh/nltk_data/corpora/state_union/1994-Clinton.txt',\n",
       " '/Users/Fiona_Shen_Bayh/nltk_data/corpora/state_union/1995-Clinton.txt',\n",
       " '/Users/Fiona_Shen_Bayh/nltk_data/corpora/state_union/1996-Clinton.txt',\n",
       " '/Users/Fiona_Shen_Bayh/nltk_data/corpora/state_union/1997-Clinton.txt',\n",
       " '/Users/Fiona_Shen_Bayh/nltk_data/corpora/state_union/1998-Clinton.txt',\n",
       " '/Users/Fiona_Shen_Bayh/nltk_data/corpora/state_union/1999-Clinton.txt',\n",
       " '/Users/Fiona_Shen_Bayh/nltk_data/corpora/state_union/2000-Clinton.txt',\n",
       " '/Users/Fiona_Shen_Bayh/nltk_data/corpora/state_union/2001-GWBush-1.txt',\n",
       " '/Users/Fiona_Shen_Bayh/nltk_data/corpora/state_union/2001-GWBush-2.txt',\n",
       " '/Users/Fiona_Shen_Bayh/nltk_data/corpora/state_union/2002-GWBush.txt',\n",
       " '/Users/Fiona_Shen_Bayh/nltk_data/corpora/state_union/2003-GWBush.txt',\n",
       " '/Users/Fiona_Shen_Bayh/nltk_data/corpora/state_union/2004-GWBush.txt',\n",
       " '/Users/Fiona_Shen_Bayh/nltk_data/corpora/state_union/2005-GWBush.txt',\n",
       " '/Users/Fiona_Shen_Bayh/nltk_data/corpora/state_union/2006-GWBush.txt']"
      ]
     },
     "execution_count": 37,
     "metadata": {},
     "output_type": "execute_result"
    }
   ],
   "source": [
    "filenames"
   ]
  },
  {
   "cell_type": "code",
   "execution_count": 38,
   "metadata": {
    "collapsed": false
   },
   "outputs": [
    {
     "name": "stdout",
     "output_type": "stream",
     "text": [
      "Collecting sklearn\n",
      "  Downloading sklearn-0.0.tar.gz\n",
      "Requirement already satisfied: scikit-learn in /Users/Fiona_Shen_Bayh/anaconda/lib/python3.5/site-packages (from sklearn)\n",
      "Building wheels for collected packages: sklearn\n",
      "  Running setup.py bdist_wheel for sklearn ... \u001b[?25l-\b \b\\\b \b|\b \bdone\n",
      "\u001b[?25h  Stored in directory: /Users/Fiona_Shen_Bayh/Library/Caches/pip/wheels/d7/db/a3/1b8041ab0be63b5c96c503df8e757cf205c2848cf9ef55f85e\n",
      "Successfully built sklearn\n",
      "Installing collected packages: sklearn\n",
      "Successfully installed sklearn-0.0\n",
      "\u001b[33mYou are using pip version 9.0.1, however version 9.0.3 is available.\n",
      "You should consider upgrading via the 'pip install --upgrade pip' command.\u001b[0m\n"
     ]
    }
   ],
   "source": [
    "!pip install sklearn"
   ]
  },
  {
   "cell_type": "code",
   "execution_count": 39,
   "metadata": {
    "collapsed": false
   },
   "outputs": [
    {
     "data": {
      "text/plain": [
       "(65, 2127)"
      ]
     },
     "execution_count": 39,
     "metadata": {},
     "output_type": "execute_result"
    }
   ],
   "source": [
    "from sklearn.feature_extraction.text import CountVectorizer\n",
    "import sklearn.feature_extraction.text as text\n",
    "\n",
    "\"\"\" CountVectorizer class gathers word frequencies (or term frequencies) associated with texts into a document-term matrix.\n",
    "    min_df: discard words appearing in less than n documents, in large corpus this may be set to 15 or higher to eliminate very rare words\n",
    "    max_df: discard words appearing in more than n documents\n",
    "    decode_error: if a byte sequence contains characters that aren't part of the given encoding, a UnicodeDecodeError will be raised. To prevent this, specify ‘ignore’ or ‘replace’.\n",
    "\"\"\"\n",
    "\n",
    "vectorizer = text.CountVectorizer(input='filename', min_df=10, max_df=.95, decode_error='replace', stop_words='english')\n",
    "\n",
    "#Document term matrix    \n",
    "\"\"\" all_the_docs is a dataframe, but vectorizer needs string as input\n",
    "    so we convert the dataframe to a unicode string object\"\"\"\n",
    "\n",
    "dtm = vectorizer.fit_transform(filenames).toarray()\n",
    "vocab = vectorizer.get_feature_names()\n",
    "    \n",
    "\"\"\" Now we have a document-term matrix (dtm) and a vocabulary list (vocab).\"\"\"\n",
    "\n",
    "\"\"\" Convert vocab, a list storing the vocabulary words, into a NumPy array, because an array supports a greater variety of operations than a list.\"\"\"\n",
    "\n",
    "import numpy as np\n",
    "vocab = np.array(vocab)\n",
    "\n",
    "dtm.shape"
   ]
  },
  {
   "cell_type": "code",
   "execution_count": 42,
   "metadata": {
    "collapsed": false
   },
   "outputs": [],
   "source": [
    "##################\n",
    "# TOPIC MODELING #\n",
    "##################\n",
    "\n",
    "\"\"\" A “non-negative matrix” is a matrix containing non-negative values (i.e. zero or positive word frequencies).\n",
    "    Non-negative matrix factorization (NMF) is often characterized as a machine learning algorithm\n",
    "    It strongly resembles Latent Dirichlet Allocation (LDA), which is a probabilistic model of the corpus\n",
    "    Whereas LDA expresses uncertainty about placement of topics across texts and assignment of words to topics,\n",
    "        NMF is a deterministic algorithm that arrives at a single representation of the corpus\n",
    "        Both NMF and LDA take a corpus and uncover “latent topics” \n",
    "        \n",
    "        In what follows, let's start with an NMF topic model\"\"\"\n",
    "\n",
    "from sklearn import decomposition\n",
    "\n",
    "\"\"\" Here we will use NMF to get a document-topic matrix (topics here will also be referred to as “components”) \n",
    "    and a list of top words for each topic.\"\"\"\n",
    "\n",
    "num_topics = 10 #number of latent topics\n",
    "\n",
    "num_top_words = 20 #number of words per topic\n",
    "\n",
    "clf = decomposition.NMF(n_components=num_topics, random_state=1) #plug these components into the algorithm\n",
    "\n",
    "doctopic = clf.fit_transform(dtm) #plug the dtm into the algorithm\n",
    "\n",
    "topic_words = [] #create an empty list for our topic words\n",
    "\n",
    "for topic in clf.components_:\n",
    "    word_idx = np.argsort(topic)[::-1][0:num_top_words]\n",
    "    topic_words.append([vocab[i] for i in word_idx])\n",
    "    \n",
    "doctopic = doctopic / np.sum(doctopic, axis=1, keepdims=True) # scale the document-component matrix such that the component values associated with each document sum to one"
   ]
  },
  {
   "cell_type": "code",
   "execution_count": 43,
   "metadata": {
    "collapsed": false
   },
   "outputs": [
    {
     "name": "stdout",
     "output_type": "stream",
     "text": [
      "Top NMF topics in...\n",
      "Bush: 1 4 3\n",
      "Carter: 4 3 1\n",
      "Clinton: 1 4 2\n",
      "Eisenhower: 3 4 0\n",
      "Ford: 4 3 1\n",
      "GWBush: 2 1 4\n",
      "Johnson: 3 1 4\n",
      "Kennedy: 3 4 0\n",
      "Nixon: 4 3 1\n",
      "Reagan: 4 1 3\n",
      "Truman: 3 0 1\n",
      "Topic 0: dollars war million fiscal expenditures program billion federal legislation estimated business economic production total public recommended increase employment policy programs\n",
      "Topic 1: children americans tonight ask let care century want just working health say thank families right community child challenge 000 parents\n",
      "Topic 2: applause americans terrorists terror tax health economy act iraq tonight social children budget women citizens war care workers energy weapons\n",
      "Topic 3: free economic federal program military shall defense strength progress power effort economy resources labor forces past present legislation development citizens\n",
      "Topic 4: tax federal programs jobs spending billion percent let program plan ve growth budget economic cut inflation americans just energy health\n"
     ]
    }
   ],
   "source": [
    "presidents = []\n",
    "\n",
    "for fn in filenames:\n",
    "    basename = os.path.basename(fn)\n",
    "    name, ext = os.path.splitext(basename)\n",
    "    name = name.lstrip('0123456789-')\n",
    "    name = name.rstrip('-123')\n",
    "    presidents.append(name) \n",
    "\n",
    "# turn this into an array so we can use NumPy functions\n",
    "presidents = np.asarray(presidents)\n",
    "\n",
    "doctopic_orig = doctopic.copy()\n",
    "\n",
    "# preprocess\n",
    "num_groups = len(set(presidents))\n",
    "\n",
    "doctopic_grouped = np.zeros((num_groups, num_topics))\n",
    "\n",
    "for i, name in enumerate(sorted(set(presidents))):\n",
    "    doctopic_grouped[i, :] = np.mean(doctopic[presidents == name, :], axis=0)\n",
    "\n",
    "doctopic = doctopic_grouped\n",
    "\n",
    "group = sorted(set(presidents)) \n",
    "\n",
    "print(\"Top NMF topics in...\")\n",
    "\n",
    "\"\"\" Topic shares associated with a set of documents can be interpreted in terms of word frequencies, \n",
    "    i.e. how many times a given word appears in a given topic\n",
    "    Python uses 0-based indexing, so the first topic is topic 0.\"\"\"\n",
    "\n",
    "for i in range(len(doctopic)):\n",
    "    top_topics = np.argsort(doctopic[i,:])[::-1][0:3]\n",
    "    top_topics_str = ' '.join(str(t) for t in top_topics)\n",
    "    print(\"{}: {}\".format(group[i], top_topics_str)) # the numbers represent the top 3 topics for each search document\n",
    "    \n",
    "for t in range(len(topic_words)):\n",
    "    print(\"Topic {}: {}\".format(t, ' '.join(topic_words[t][:20]))) #prints top 15 words associated with each topic"
   ]
  },
  {
   "cell_type": "code",
   "execution_count": 45,
   "metadata": {
    "collapsed": false
   },
   "outputs": [
    {
     "data": {
      "image/png": "[encoded data removed]",
      "text/plain": [
       "<matplotlib.figure.Figure at 0x11a0dc400>"
      ]
     },
     "metadata": {},
     "output_type": "display_data"
    }
   ],
   "source": [
    "import numpy as np\n",
    "\n",
    "import matplotlib.pyplot as plt\n",
    "\n",
    "N, K = doctopic.shape  # N documents, K topics\n",
    "\n",
    "ind = np.arange(N)  # the x-axis locations for the courts\n",
    "\n",
    "width = 0.2  # the width of the bars\n",
    "\n",
    "plots = []\n",
    "\n",
    "height_cumulative = np.zeros(N)\n",
    "\n",
    "for k in range(K):\n",
    "    color = plt.cm.coolwarm(k/K, 1) #colormap\n",
    "    if k == 0:\n",
    "        p = plt.bar(ind, doctopic[:, k], width, color=color)\n",
    "    else:\n",
    "        p = plt.bar(ind, doctopic[:, k], width, bottom=height_cumulative, color=color)\n",
    "    height_cumulative += doctopic[:, k]\n",
    "    plots.append(p)\n",
    "\n",
    "plt.ylim((0, 1))  # proportions sum to 1, so the height of the stacked bars is 1\n",
    "\n",
    "plt.ylabel('') #y-axis label\n",
    "\n",
    "plt.title('Topics') #plot title\n",
    "\n",
    "plt.xticks(ind+width/2, group, rotation=45) #placement and naming of x-axis ticks\n",
    "\n",
    "topic_labels = ['Topic #{}'.format(k) for k in range(K)] # {} will become topic 1:K\n",
    "\n",
    "\n",
    "# see http://matplotlib.org/api/pyplot_api.html#matplotlib.pyplot.legend for more details on making a legend in matplotlib\n",
    "\n",
    "plt.legend([p[0] for p in plots], topic_labels, bbox_to_anchor=(1.4,0.8), title=\"Topics\")\n",
    "\n",
    "plt.subplots_adjust(bottom=0.3)\n",
    "\n",
    "plt.show()"
   ]
  },
  {
   "cell_type": "code",
   "execution_count": 47,
   "metadata": {
    "collapsed": false
   },
   "outputs": [
    {
     "data": {
      "image/png": "[encoded data removed]",
      "text/plain": [
       "<matplotlib.figure.Figure at 0x11fe565c0>"
      ]
     },
     "metadata": {},
     "output_type": "display_data"
    }
   ],
   "source": [
    "import matplotlib\n",
    "import matplotlib.pyplot as plt\n",
    "\n",
    "N, K = doctopic.shape # N documents, K topics\n",
    "\n",
    "ind = np.arange(N)  # points on the x-axis\n",
    "\n",
    "width = 0.5\n",
    "\n",
    "plt.bar(ind, doctopic[:,2], width=width)\n",
    "\n",
    "xlabels = set(presidents)\n",
    "\n",
    "plt.xticks(ind + width/2, group, rotation=90)  # put labels in the center\n",
    "\n",
    "plt.title('Share of Topic #2')\n",
    "\n",
    "plt.show()"
   ]
  }
 ],
 "metadata": {
  "anaconda-cloud": {},
  "kernelspec": {
   "display_name": "Python [conda root]",
   "language": "python",
   "name": "conda-root-py"
  },
  "language_info": {
   "codemirror_mode": {
    "name": "ipython",
    "version": 3
   },
   "file_extension": ".py",
   "mimetype": "text/x-python",
   "name": "python",
   "nbconvert_exporter": "python",
   "pygments_lexer": "ipython3",
   "version": "3.5.2"
  }
 },
 "nbformat": 4,
 "nbformat_minor": 1
}
