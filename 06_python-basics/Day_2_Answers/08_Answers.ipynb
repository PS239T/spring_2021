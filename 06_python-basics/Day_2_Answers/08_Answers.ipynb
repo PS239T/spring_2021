{
 "cells": [
  {
   "cell_type": "markdown",
   "metadata": {},
   "source": [
    "## Challenge 1: Reversing a String\n",
    "\n",
    "Fill in the blanks in the program below so that it prints \"nit\"\n",
    "(the reverse of the original character string \"tin\")."
   ]
  },
  {
   "cell_type": "code",
   "execution_count": 1,
   "metadata": {
    "collapsed": false
   },
   "outputs": [
    {
     "name": "stdout",
     "output_type": "stream",
     "text": [
      "nit\n"
     ]
    }
   ],
   "source": [
    "original = \"tin\"\n",
    "result = \"\"\n",
    "for char in original:\n",
    "    result = char + result\n",
    "print(result)"
   ]
  },
  {
   "cell_type": "markdown",
   "metadata": {},
   "source": [
    "### BONUS: How can you do this in one line with stride?"
   ]
  },
  {
   "cell_type": "code",
   "execution_count": 2,
   "metadata": {
    "collapsed": false
   },
   "outputs": [
    {
     "data": {
      "text/plain": [
       "'nit'"
      ]
     },
     "execution_count": 2,
     "metadata": {},
     "output_type": "execute_result"
    }
   ],
   "source": [
    "original[::-1]"
   ]
  },
  {
   "cell_type": "markdown",
   "metadata": {},
   "source": [
    "## Challenge 2: Practice Accumulating\n",
    "\n",
    "Fill in the blanks in each of the programs below\n",
    "to produce the indicated result."
   ]
  },
  {
   "cell_type": "code",
   "execution_count": 3,
   "metadata": {
    "collapsed": false
   },
   "outputs": [
    {
     "name": "stdout",
     "output_type": "stream",
     "text": [
      "12\n"
     ]
    }
   ],
   "source": [
    "# Total length of the strings in the list: [\"red\", \"green\", \"blue\"] => 12\n",
    "total = 0\n",
    "for word in [\"red\", \"green\", \"blue\"]:\n",
    "    total = total + len(word)\n",
    "print(total)"
   ]
  },
  {
   "cell_type": "code",
   "execution_count": 4,
   "metadata": {
    "collapsed": false
   },
   "outputs": [
    {
     "name": "stdout",
     "output_type": "stream",
     "text": [
      "[3, 5, 4]\n"
     ]
    }
   ],
   "source": [
    "# List of word lengths: [\"red\", \"green\", \"blue\"] => [3, 5, 4]\n",
    "lengths = []\n",
    "for word in [\"red\", \"green\", \"blue\"]:\n",
    "    lengths.append(len(word))\n",
    "print(lengths)"
   ]
  },
  {
   "cell_type": "code",
   "execution_count": 5,
   "metadata": {
    "collapsed": false
   },
   "outputs": [
    {
     "name": "stdout",
     "output_type": "stream",
     "text": [
      "redgreenblue\n"
     ]
    }
   ],
   "source": [
    "# Concatenate all words: [\"red\", \"green\", \"blue\"] => \"redgreenblue\"\n",
    "words = [\"red\", \"green\", \"blue\"]\n",
    "result = \"\"\n",
    "for c in words:\n",
    "    result = ''.join(words)\n",
    "print(result)"
   ]
  },
  {
   "cell_type": "code",
   "execution_count": 6,
   "metadata": {
    "collapsed": false
   },
   "outputs": [
    {
     "name": "stdout",
     "output_type": "stream",
     "text": [
      "RGB\n"
     ]
    }
   ],
   "source": [
    "# Create acronym: [\"red\", \"green\", \"blue\"] => \"RGB\"\n",
    "# write the whole thing\n",
    "\n",
    "ac = \"\"\n",
    "for c in words:\n",
    "    ac += c[0].upper()\n",
    "print(ac)"
   ]
  },
  {
   "cell_type": "markdown",
   "metadata": {},
   "source": [
    "## Challenge 3: Multiple Operations\n",
    "\n",
    "Below is a list of presidents. Create a new list that contains only the last name of each president.\n",
    "\n",
    "(HINT: Look at string methods!)"
   ]
  },
  {
   "cell_type": "code",
   "execution_count": 7,
   "metadata": {
    "collapsed": false
   },
   "outputs": [],
   "source": [
    "presidents_full = [\"George Washington\", \"John Adams\", \"Thomas Jefferson\", \"James Madison\", \"James Monroe\", \\\n",
    "        \"John Quincy Adams\", \"Andrew Jackson\", \"Martin Van Buren\", \"William Henry Harrison\", \"John Tyler\", \\\n",
    "        \"James K. Polk\", \"Zachary Taylor\", \"Millard Fillmore\", \"Franklin Pierce\", \"James Buchanan\", \\\n",
    "        \"Abraham Lincoln\", \"Andrew Johnson\", \"Ulysses S. Grant\", \"Rutherford B. Hayes\", \"James A. Garfield\", \\\n",
    "        \"Chester A. Arthur\", \"Grover Cleveland\", \"Benjamin Harrison\", \"Grover Cleveland\", \"William McKinley\", \\\n",
    "        \"Theodore Roosevelt\", \"William Howard Taft\", \"Woodrow Wilson\", \"Warren G. Harding\", \"Calvin Coolidge\", \\\n",
    "        \"Herbert Hoover\", \"Franklin D. Roosevelt\", \"Harry S. Truman\", \"Dwight D. Eisenhower\", \"John F. Kennedy\", \\\n",
    "        \"Lyndon B. Johnson\", \"Richard Nixon\", \"Gerald Ford\", \"Jimmy Carter\", \"Ronald Reagan\", \"George H. W. Bush\", \\\n",
    "        \"Bill Clinton\", \"George W. Bush\", \"Barack Obama\"]"
   ]
  },
  {
   "cell_type": "code",
   "execution_count": 8,
   "metadata": {
    "collapsed": true
   },
   "outputs": [],
   "source": [
    "last_names = []\n",
    "for p in presidents_full:\n",
    "    l_name = p.split()[-1]\n",
    "    last_names.append(l_name)"
   ]
  },
  {
   "cell_type": "code",
   "execution_count": 9,
   "metadata": {
    "collapsed": false
   },
   "outputs": [
    {
     "data": {
      "text/plain": [
       "['Washington',\n",
       " 'Adams',\n",
       " 'Jefferson',\n",
       " 'Madison',\n",
       " 'Monroe',\n",
       " 'Adams',\n",
       " 'Jackson',\n",
       " 'Buren',\n",
       " 'Harrison',\n",
       " 'Tyler',\n",
       " 'Polk',\n",
       " 'Taylor',\n",
       " 'Fillmore',\n",
       " 'Pierce',\n",
       " 'Buchanan',\n",
       " 'Lincoln',\n",
       " 'Johnson',\n",
       " 'Grant',\n",
       " 'Hayes',\n",
       " 'Garfield',\n",
       " 'Arthur',\n",
       " 'Cleveland',\n",
       " 'Harrison',\n",
       " 'Cleveland',\n",
       " 'McKinley',\n",
       " 'Roosevelt',\n",
       " 'Taft',\n",
       " 'Wilson',\n",
       " 'Harding',\n",
       " 'Coolidge',\n",
       " 'Hoover',\n",
       " 'Roosevelt',\n",
       " 'Truman',\n",
       " 'Eisenhower',\n",
       " 'Kennedy',\n",
       " 'Johnson',\n",
       " 'Nixon',\n",
       " 'Ford',\n",
       " 'Carter',\n",
       " 'Reagan',\n",
       " 'Bush',\n",
       " 'Clinton',\n",
       " 'Bush',\n",
       " 'Obama']"
      ]
     },
     "execution_count": 9,
     "metadata": {},
     "output_type": "execute_result"
    }
   ],
   "source": [
    "last_names"
   ]
  },
  {
   "cell_type": "markdown",
   "metadata": {},
   "source": [
    "Now sort the list alphabetically by last name (HINT: look up `sorted`):"
   ]
  },
  {
   "cell_type": "code",
   "execution_count": 10,
   "metadata": {
    "collapsed": false
   },
   "outputs": [
    {
     "data": {
      "text/plain": [
       "['Adams',\n",
       " 'Adams',\n",
       " 'Arthur',\n",
       " 'Buchanan',\n",
       " 'Buren',\n",
       " 'Bush',\n",
       " 'Bush',\n",
       " 'Carter',\n",
       " 'Cleveland',\n",
       " 'Cleveland',\n",
       " 'Clinton',\n",
       " 'Coolidge',\n",
       " 'Eisenhower',\n",
       " 'Fillmore',\n",
       " 'Ford',\n",
       " 'Garfield',\n",
       " 'Grant',\n",
       " 'Harding',\n",
       " 'Harrison',\n",
       " 'Harrison',\n",
       " 'Hayes',\n",
       " 'Hoover',\n",
       " 'Jackson',\n",
       " 'Jefferson',\n",
       " 'Johnson',\n",
       " 'Johnson',\n",
       " 'Kennedy',\n",
       " 'Lincoln',\n",
       " 'Madison',\n",
       " 'McKinley',\n",
       " 'Monroe',\n",
       " 'Nixon',\n",
       " 'Obama',\n",
       " 'Pierce',\n",
       " 'Polk',\n",
       " 'Reagan',\n",
       " 'Roosevelt',\n",
       " 'Roosevelt',\n",
       " 'Taft',\n",
       " 'Taylor',\n",
       " 'Truman',\n",
       " 'Tyler',\n",
       " 'Washington',\n",
       " 'Wilson']"
      ]
     },
     "execution_count": 10,
     "metadata": {},
     "output_type": "execute_result"
    }
   ],
   "source": [
    "sorted(last_names)"
   ]
  },
  {
   "cell_type": "code",
   "execution_count": 11,
   "metadata": {
    "collapsed": false
   },
   "outputs": [
    {
     "data": {
      "text/plain": [
       "['John Adams',\n",
       " 'John Quincy Adams',\n",
       " 'Chester A. Arthur',\n",
       " 'James Buchanan',\n",
       " 'Martin Van Buren',\n",
       " 'George H. W. Bush',\n",
       " 'George W. Bush',\n",
       " 'Jimmy Carter',\n",
       " 'Grover Cleveland',\n",
       " 'Grover Cleveland',\n",
       " 'Bill Clinton',\n",
       " 'Calvin Coolidge',\n",
       " 'Dwight D. Eisenhower',\n",
       " 'Millard Fillmore',\n",
       " 'Gerald Ford',\n",
       " 'James A. Garfield',\n",
       " 'Ulysses S. Grant',\n",
       " 'Warren G. Harding',\n",
       " 'William Henry Harrison',\n",
       " 'Benjamin Harrison',\n",
       " 'Rutherford B. Hayes',\n",
       " 'Herbert Hoover',\n",
       " 'Andrew Jackson',\n",
       " 'Thomas Jefferson',\n",
       " 'Andrew Johnson',\n",
       " 'Lyndon B. Johnson',\n",
       " 'John F. Kennedy',\n",
       " 'Abraham Lincoln',\n",
       " 'James Madison',\n",
       " 'William McKinley',\n",
       " 'James Monroe',\n",
       " 'Richard Nixon',\n",
       " 'Barack Obama',\n",
       " 'Franklin Pierce',\n",
       " 'James K. Polk',\n",
       " 'Ronald Reagan',\n",
       " 'Theodore Roosevelt',\n",
       " 'Franklin D. Roosevelt',\n",
       " 'William Howard Taft',\n",
       " 'Zachary Taylor',\n",
       " 'Harry S. Truman',\n",
       " 'John Tyler',\n",
       " 'George Washington',\n",
       " 'Woodrow Wilson']"
      ]
     },
     "execution_count": 11,
     "metadata": {},
     "output_type": "execute_result"
    }
   ],
   "source": [
    "sorted(presidents_full, key=lambda x: x.split()[-1])"
   ]
  },
  {
   "cell_type": "markdown",
   "metadata": {},
   "source": [
    "## Challenge 4: Range\n",
    "\n",
    "Using `range` and a for loop, calculate the factorial of 42 (the product of all integers up to and including 42)."
   ]
  },
  {
   "cell_type": "code",
   "execution_count": 12,
   "metadata": {
    "collapsed": false
   },
   "outputs": [
    {
     "name": "stdout",
     "output_type": "stream",
     "text": [
      "1405006117752879898543142606244511569936384000000000\n"
     ]
    }
   ],
   "source": [
    "factorial = 1\n",
    "for num in range(1, 43):\n",
    "    factorial *= num\n",
    "\n",
    "print(factorial)"
   ]
  },
  {
   "cell_type": "code",
   "execution_count": null,
   "metadata": {
    "collapsed": true
   },
   "outputs": [],
   "source": []
  }
 ],
 "metadata": {
  "kernelspec": {
   "display_name": "Python 3",
   "language": "python",
   "name": "python3"
  },
  "language_info": {
   "codemirror_mode": {
    "name": "ipython",
    "version": 3
   },
   "file_extension": ".py",
   "mimetype": "text/x-python",
   "name": "python",
   "nbconvert_exporter": "python",
   "pygments_lexer": "ipython3",
   "version": "3.4.3"
  }
 },
 "nbformat": 4,
 "nbformat_minor": 0
}
