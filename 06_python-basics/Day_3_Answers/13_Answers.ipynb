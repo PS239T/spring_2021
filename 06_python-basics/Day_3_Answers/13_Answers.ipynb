{
 "cells": [
  {
   "cell_type": "markdown",
   "metadata": {},
   "source": [
    "## Challenge 1: Read in a list\n",
    "\n",
    "The file `counties.txt` has a column of counties in California. Read in the data into a list called `counties`."
   ]
  },
  {
   "cell_type": "code",
   "execution_count": 1,
   "metadata": {
    "collapsed": false
   },
   "outputs": [
    {
     "name": "stdout",
     "output_type": "stream",
     "text": [
      "Alameda\n",
      "Alpine\n",
      "Amador\n",
      "Butte\n",
      "Calaveras\n",
      "Colusa\n",
      "Contra Costa\n",
      "Del Norte\n",
      "El Dorado\n",
      "Fresno\n",
      "Glenn\n",
      "Humboldt\n",
      "Imperial\n",
      "Inyo\n",
      "Kern\n",
      "Kings\n",
      "Lake\n",
      "Lassen\n",
      "Los Angeles\n",
      "Madera\n",
      "Marin\n",
      "Mariposa\n",
      "Mendocino\n",
      "Merced\n",
      "Modoc\n",
      "Mono\n",
      "Monterey\n",
      "Napa\n",
      "Nevada\n",
      "Orange\n",
      "Placer\n",
      "Plumas\n",
      "Riverside\n",
      "Sacramento\n",
      "San Benito\n",
      "San Bernardino\n",
      "San Diego\n",
      "San Francisco\n",
      "San Joaquin\n",
      "San Luis Obispo\n",
      "San Mateo\n",
      "Santa Barbara\n",
      "Santa Clara\n",
      "Santa Cruz\n",
      "Shasta\n",
      "Sierra\n",
      "Siskiyou\n",
      "Solano\n",
      "Sonoma\n",
      "Stanislaus\n",
      "Sutter\n",
      "Tehama\n",
      "Trinity\n",
      "Tulare\n",
      "Tuolumne\n",
      "Ventura\n",
      "Yolo\n",
      "Yuba\n"
     ]
    }
   ],
   "source": [
    "with open(\"../counties.txt\", \"r\") as f:  # from Answers folder must cd up one level\n",
    "    counties = f.read()\n",
    "    \n",
    "print(counties)"
   ]
  },
  {
   "cell_type": "markdown",
   "metadata": {},
   "source": [
    "## Challenge 2: Writing a CSV file\n",
    "\n",
    "Below is a list of dictionaries representing US states. Write this [object](https://github.com/dlab-berkeley/python-intensive/blob/master/Glossary.md#object) as a CSV file called `states.csv`"
   ]
  },
  {
   "cell_type": "code",
   "execution_count": 2,
   "metadata": {
    "collapsed": true
   },
   "outputs": [],
   "source": [
    "states = [{'state': 'Ohio', 'population': 11.6, 'year in union': 1803, 'state bird': 'Northern cardinal', 'capital': 'Columbus'},\n",
    "          {'state': 'Michigan', 'population': 9.9, 'year in union': 1837, 'capital': 'Lansing'},\n",
    "          {'state': 'California', 'population': 39.1, 'year in union': 1850, 'state bird': 'California quail', 'capital': 'Sacramento'},\n",
    "          {'state': 'Florida', 'population': 20.2, 'year in union': 1834, 'capital': 'Tallahassee'},\n",
    "          {'state': 'Alabama', 'population': 4.9, 'year in union': 1819, 'capital': 'Montgomery'}]"
   ]
  },
  {
   "cell_type": "code",
   "execution_count": 3,
   "metadata": {
    "collapsed": false
   },
   "outputs": [],
   "source": [
    "import csv\n",
    "keys = states[2].keys()  # have to index one without state bird, or add for all\n",
    "with open('states.csv', 'w') as output_file:\n",
    "    dict_writer = csv.DictWriter(output_file, keys)\n",
    "    dict_writer.writeheader()\n",
    "    dict_writer.writerows(states)"
   ]
  }
 ],
 "metadata": {
  "kernelspec": {
   "display_name": "Python 3",
   "language": "python",
   "name": "python3"
  },
  "language_info": {
   "codemirror_mode": {
    "name": "ipython",
    "version": 3
   },
   "file_extension": ".py",
   "mimetype": "text/x-python",
   "name": "python",
   "nbconvert_exporter": "python",
   "pygments_lexer": "ipython3",
   "version": "3.4.3"
  }
 },
 "nbformat": 4,
 "nbformat_minor": 0
}
