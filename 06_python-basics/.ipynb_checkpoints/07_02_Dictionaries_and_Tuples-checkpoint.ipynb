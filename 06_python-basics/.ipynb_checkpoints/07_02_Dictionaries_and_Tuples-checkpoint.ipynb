{
 "cells": [
  {
   "cell_type": "markdown",
   "metadata": {},
   "source": [
    "# More on Data types \n",
    "\n",
    "**Time**\n",
    "- Teaching: 15 min\n",
    "- Exercises: 10 min\n",
    "\n",
    "**Questions**:\n",
    "- \"What is the difference between lists and dictionaries?\"\n",
    "- \"Why should we care dictionaries and tuples?\"\n",
    "\n",
    "**Learning Objectives**:\n",
    "- \"Understand Dictionary and Tuples.\n",
    "* * * * *"
   ]
  },
  {
   "cell_type": "markdown",
   "metadata": {},
   "source": [
    "### Dictionary\n",
    "\n",
    "- The most important built-in Python data type \n",
    "- Very much like `list`. But `dictionary` is more general. In a `list`, the indices have to be integers; in a `dictionary`, they can be (almost) any type. \n",
    "- Basically, a dictionary maps a set of indices (called keys) to a set of values (called values). The association between a key and a value is called a **key-value pair** or an **item**.\n"
   ]
  },
  {
   "cell_type": "markdown",
   "metadata": {},
   "source": [
    "#### Creating a dictionary "
   ]
  },
  {
   "cell_type": "code",
   "execution_count": 4,
   "metadata": {},
   "outputs": [],
   "source": [
    "univ = {'Berkeley' : 'Public',\n",
    "        'Michigan' : 'Public',\n",
    "        'Stanford' : 'Private',\n",
    "        'Harvard' : 'Private'}"
   ]
  },
  {
   "cell_type": "code",
   "execution_count": null,
   "metadata": {},
   "outputs": [],
   "source": [
    "univ"
   ]
  },
  {
   "cell_type": "markdown",
   "metadata": {},
   "source": [
    "#### Searching a dictionary \n",
    "\n",
    "The `in` operator works in both a `list` and a `dictionary`. But they use different algorithms. For `lists`, the operator uses a search algorithm. As the `list` gets longer, the search time gets longer in direct proportion. This does not happen to `dictionaries` since the `in` operator in a `dictionary` uses an algorithm called a **hashtable**. Regardless of how many times in a `dictionary`, the `in` operator takes about the same amount of time. \n",
    "\n",
    "I don't want to get into too much detail, but for your reference, a **hash** is a function that takes a value (of any kind) and returns an integer. Dictionaries use these integers, to store and look up key-value pairs. This information is not technically sufficient, but enough to give you some intuitions behind. "
   ]
  },
  {
   "cell_type": "code",
   "execution_count": null,
   "metadata": {},
   "outputs": [],
   "source": [
    "univ['Berkeley']\n",
    "\n",
    "'Berkeley' in univ"
   ]
  },
  {
   "cell_type": "markdown",
   "metadata": {},
   "source": [
    "#### Deleting a value in a dictionary"
   ]
  },
  {
   "cell_type": "code",
   "execution_count": null,
   "metadata": {},
   "outputs": [],
   "source": [
    "del univ['Berkeley']\n",
    "\n",
    "'Berkeley' in univ"
   ]
  },
  {
   "cell_type": "markdown",
   "metadata": {},
   "source": [
    "#### Updating a value in a dictionary"
   ]
  },
  {
   "cell_type": "code",
   "execution_count": null,
   "metadata": {},
   "outputs": [],
   "source": [
    "univ.update({'Berkeley' : 'Public'})\n",
    "\n",
    "'Berkeley' in univ"
   ]
  },
  {
   "cell_type": "markdown",
   "metadata": {},
   "source": [
    "## Tuple \n",
    "\n",
    "Tuple is a fixed-length, **immutable** sequence of Python objects. This **Immutable** aspect of tuple is very attractive feature to a dictionary. Can you explain why?\n",
    "\n",
    "Again, the core of a `dictionary` is **the key-value pair**. Imagine if the key is mutable, what's the problem with that? If the key is mutable, when you modify the key and then hash it again, it would go to a different location. In that case you might end up having two entries for the same key. A very undesirable outcome. You can prevent this disaster from happening, by using an **immutable** object to create a key. \n"
   ]
  },
  {
   "cell_type": "code",
   "execution_count": 3,
   "metadata": {},
   "outputs": [
    {
     "data": {
      "text/plain": [
       "tuple"
      ]
     },
     "execution_count": 3,
     "metadata": {},
     "output_type": "execute_result"
    }
   ],
   "source": [
    "# tupe = 1, 2, 3 # syntax-wise, this one works, too. \n",
    "# But not so easy to see. So, let's use the next version.\n",
    "tup = (1, 2, 3)\n",
    "\n",
    "type(tup)"
   ]
  },
  {
   "cell_type": "markdown",
   "metadata": {},
   "source": [
    "### Basic operations "
   ]
  },
  {
   "cell_type": "markdown",
   "metadata": {},
   "source": [
    "You can convert a list into a tuple. "
   ]
  },
  {
   "cell_type": "code",
   "execution_count": 2,
   "metadata": {},
   "outputs": [
    {
     "name": "stdout",
     "output_type": "stream",
     "text": [
      "<class 'list'>\n",
      "<class 'tuple'>\n"
     ]
    }
   ],
   "source": [
    "print(type([1, 2, 3]))\n",
    "\n",
    "print(type(tuple([1, 2, 3])))"
   ]
  },
  {
   "cell_type": "markdown",
   "metadata": {},
   "source": [
    "Elememts can be accessed with [ ]."
   ]
  },
  {
   "cell_type": "code",
   "execution_count": 3,
   "metadata": {},
   "outputs": [
    {
     "data": {
      "text/plain": [
       "'S'"
      ]
     },
     "execution_count": 3,
     "metadata": {},
     "output_type": "execute_result"
    }
   ],
   "source": [
    "tup = tuple('PS239T')\n",
    "\n",
    "tup[1]"
   ]
  },
  {
   "cell_type": "markdown",
   "metadata": {},
   "source": [
    "### Dictionaries and tuples. "
   ]
  },
  {
   "cell_type": "markdown",
   "metadata": {},
   "source": [
    "`Dictionaries` have a method called `items` that returns a list of tuples, where each tuple is a key-value pair. "
   ]
  },
  {
   "cell_type": "code",
   "execution_count": 9,
   "metadata": {},
   "outputs": [
    {
     "name": "stdout",
     "output_type": "stream",
     "text": [
      "dict_items([('Berkeley', 'Public'), ('Michigan', 'Public'), ('Stanford', 'Private'), ('Harvard', 'Private')])\n"
     ]
    }
   ],
   "source": [
    "univ_items = univ.items()\n",
    "\n",
    "print(univ_items)"
   ]
  },
  {
   "cell_type": "markdown",
   "metadata": {},
   "source": [
    "Or you can create a `dictionary` by using a `list` of `tuples`. "
   ]
  },
  {
   "cell_type": "code",
   "execution_count": 11,
   "metadata": {},
   "outputs": [
    {
     "name": "stdout",
     "output_type": "stream",
     "text": [
      "{'dad': 'Jae', 'mom': 'Sun', 'baby': 'Jane'}\n"
     ]
    }
   ],
   "source": [
    "kim_family = [('dad', 'Jae'), ('mom', 'Sun'), ('baby', 'Jane')]\n",
    "d_kim_family = dict(kim_family)\n",
    "print(d_kim_family)"
   ]
  },
  {
   "cell_type": "markdown",
   "metadata": {},
   "source": [
    "A more concise way is to use `zip`. If the lengths of the two `lists` are not matched, then `zip`' uses the length of the shorter one."
   ]
  },
  {
   "cell_type": "code",
   "execution_count": 13,
   "metadata": {},
   "outputs": [
    {
     "name": "stdout",
     "output_type": "stream",
     "text": [
      "{'dad': 'Jae', 'mom': 'Sun', 'baby': 'Jane'}\n"
     ]
    }
   ],
   "source": [
    "kim_names = ['Jae', 'Sun', 'Jane']\n",
    "kim_positions = ['dad', 'mom', 'baby']\n",
    "print(dict(zip(kim_positions, kim_names)))"
   ]
  },
  {
   "cell_type": "markdown",
   "metadata": {},
   "source": [
    "You can unpack keys and values as a tuple in a `dictionary` by combining `.items()` and `for loop`."
   ]
  },
  {
   "cell_type": "code",
   "execution_count": 19,
   "metadata": {},
   "outputs": [
    {
     "name": "stdout",
     "output_type": "stream",
     "text": [
      "Public :  Berkeley\n",
      "Public :  Michigan\n",
      "Private :  Stanford\n",
      "Private :  Harvard\n"
     ]
    }
   ],
   "source": [
    "for key, val in univ.items():\n",
    "    print(val, \": \", key)"
   ]
  }
 ],
 "metadata": {
  "kernelspec": {
   "display_name": "Python 3",
   "language": "python",
   "name": "python3"
  },
  "language_info": {
   "codemirror_mode": {
    "name": "ipython",
    "version": 3
   },
   "file_extension": ".py",
   "mimetype": "text/x-python",
   "name": "python",
   "nbconvert_exporter": "python",
   "pygments_lexer": "ipython3",
   "version": "3.6.6"
  }
 },
 "nbformat": 4,
 "nbformat_minor": 1
}
