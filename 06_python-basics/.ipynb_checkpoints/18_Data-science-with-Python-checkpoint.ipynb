{
 "cells": [
  {
   "cell_type": "markdown",
   "metadata": {},
   "source": [
    "The material is adapted from [The Python Data Science Handbook](https://jakevdp.github.io/PythonDataScienceHandbook/00.00-preface.html) by Jake VanderPlas and [Python for data analysis](http://oskicat.berkeley.edu/search~S1?/XPython+for+Data+Analysis&searchscope=1&SORT=D/XPython+for+Data+Analysis&searchscope=1&SORT=D&SUBKEY=Python+for+Data+Analysis/1%2C166%2C166%2CB/frameset&FF=XPython+for+Data+Analysis&searchscope=1&SORT=D&1%2C1%2C) by Wes McKinney.\n",
    "\n",
    "Previous modules cover Python basics. For data science tasks, you also need to be familiar with the following libraries:\n",
    "\n",
    "1. Numpy for manipulating dense data \n",
    "\n",
    "2. Pandas for manipulating labeled data \n",
    "\n",
    "3. Matplotlib for data visualization \n",
    "\n",
    "5. Scikit-Learn and Keras for machine learning (more likely we don't have time to cover these libraries to cover within this semeser.) \n"
   ]
  },
  {
   "cell_type": "markdown",
   "metadata": {},
   "source": [
    "# Numpy "
   ]
  },
  {
   "cell_type": "code",
   "execution_count": 18,
   "metadata": {},
   "outputs": [
    {
     "name": "stdout",
     "output_type": "stream",
     "text": [
      "[1 2 3 4 5]\n"
     ]
    }
   ],
   "source": [
    "# load libraries \n",
    "import numpy as np\n",
    "\n",
    "# create an array \n",
    "data = np.array([1, 2, 3, 4, 5])\n",
    "\n",
    "print(data)"
   ]
  },
  {
   "cell_type": "code",
   "execution_count": 21,
   "metadata": {},
   "outputs": [
    {
     "name": "stdout",
     "output_type": "stream",
     "text": [
      "sum: 15 min: 1 max: 5 mean: 3.0 sd: 1.41\n"
     ]
    }
   ],
   "source": [
    "# aggregations \n",
    "\n",
    "print(\"sum:\", data.sum(),\n",
    "      \"min:\", data.min(),\n",
    "      \"max:\", data.max(),\n",
    "      \"mean:\", data.mean(),\n",
    "      \"sd:\", data.std().round(2))"
   ]
  },
  {
   "cell_type": "code",
   "execution_count": null,
   "metadata": {},
   "outputs": [],
   "source": [
    "%matplotlib inline # the output of the plot is displyaed inline\n"
   ]
  }
 ],
 "metadata": {
  "kernelspec": {
   "display_name": "Python 3",
   "language": "python",
   "name": "python3"
  },
  "language_info": {
   "codemirror_mode": {
    "name": "ipython",
    "version": 3
   },
   "file_extension": ".py",
   "mimetype": "text/x-python",
   "name": "python",
   "nbconvert_exporter": "python",
   "pygments_lexer": "ipython3",
   "version": "3.6.6"
  }
 },
 "nbformat": 4,
 "nbformat_minor": 2
}
