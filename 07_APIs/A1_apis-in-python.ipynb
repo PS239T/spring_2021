{
 "cells": [
  {
   "cell_type": "markdown",
   "metadata": {},
   "source": [
    "# Accessing Databases via Web APIs: Lecture Code\n",
    "* * * * *"
   ]
  },
  {
   "cell_type": "code",
   "execution_count": 1,
   "metadata": {
    "collapsed": false
   },
   "outputs": [],
   "source": [
    "# Import required libraries\n",
    "import requests\n",
    "import urllib\n",
    "import json\n",
    "from __future__ import division\n",
    "import math"
   ]
  },
  {
   "cell_type": "markdown",
   "metadata": {},
   "source": [
    "## 1. Constructing API GET Request\n",
    "\n",
    "In the first place, we know that every call will require us to provide a) a base URL for the API, b) some authorization code or key, and c) a format for the response. So let's put store those in some variables."
   ]
  },
  {
   "cell_type": "code",
   "execution_count": 37,
   "metadata": {
    "collapsed": true
   },
   "outputs": [],
   "source": [
    "# set key\n",
    "key=\"c98c46b9278b4f4e98acb812ec3d9dbb\"\n",
    "\n",
    "# set base url\n",
    "base_url=\"http://api.nytimes.com/svc/search/v2/articlesearch\"\n",
    "\n",
    "# set response format\n",
    "response_format=\".json\""
   ]
  },
  {
   "cell_type": "markdown",
   "metadata": {},
   "source": [
    "You often want to send some sort of data in the URL’s query string. This data tells the API what information you want. In our case, we want articles about Prince. Requests allows you to provide these arguments as a dictionary, using the `params` keyword argument. In addition to the search term `q`, we have to put in the `api-key` term."
   ]
  },
  {
   "cell_type": "code",
   "execution_count": 3,
   "metadata": {
    "collapsed": true
   },
   "outputs": [],
   "source": [
    "# set search parameters\n",
    "search_params = {\"q\":\"Prince\",\n",
    "                 \"api-key\":key}       "
   ]
  },
  {
   "cell_type": "markdown",
   "metadata": {},
   "source": [
    "Now we're ready to make the request. We use the `.get` method from the `requests` library to make an HTTP GET Request."
   ]
  },
  {
   "cell_type": "code",
   "execution_count": 4,
   "metadata": {
    "collapsed": false
   },
   "outputs": [],
   "source": [
    "# make request\n",
    "r = requests.get(base_url+response_format, params=search_params)"
   ]
  },
  {
   "cell_type": "markdown",
   "metadata": {},
   "source": [
    "Now, we have a [response](http://docs.python-requests.org/en/latest/api/#requests.Response) object called `r`. We can get all the information we need from this object. For instance, we can see that the URL has been correctly encoded by printing the URL. Click on the link to see what happens."
   ]
  },
  {
   "cell_type": "code",
   "execution_count": 5,
   "metadata": {
    "collapsed": false
   },
   "outputs": [
    {
     "name": "stdout",
     "output_type": "stream",
     "text": [
      "http://api.nytimes.com/svc/search/v2/articlesearch.json?q=Prince&api-key=13ff759582b04c6d8050e178b2dc8d0e\n"
     ]
    }
   ],
   "source": [
    "print(r.url)"
   ]
  },
  {
   "cell_type": "markdown",
   "metadata": {},
   "source": [
    "Click on that link to see what it returns!"
   ]
  },
  {
   "cell_type": "markdown",
   "metadata": {},
   "source": [
    "Hmm - looks like we're getting a lot of junk unrelated to the musical artist in here. Let's make it a little more specific:"
   ]
  },
  {
   "cell_type": "code",
   "execution_count": 6,
   "metadata": {
    "collapsed": false
   },
   "outputs": [
    {
     "name": "stdout",
     "output_type": "stream",
     "text": [
      "http://api.nytimes.com/svc/search/v2/articlesearch.json?q=Prince+music&api-key=13ff759582b04c6d8050e178b2dc8d0e\n"
     ]
    }
   ],
   "source": [
    "# set search parameters\n",
    "search_params = {\"q\":\"Prince music\",\n",
    "                 \"api-key\":key}  \n",
    "# make request\n",
    "r = requests.get(base_url+response_format, params=search_params)\n",
    "\n",
    "print(r.url)"
   ]
  },
  {
   "cell_type": "markdown",
   "metadata": {},
   "source": [
    "Better!"
   ]
  },
  {
   "cell_type": "markdown",
   "metadata": {},
   "source": [
    "### Challenge 1:  Adding a date range\n",
    "\n",
    "What if we only want to search within a particular date range? The NYT Article API allows us to specify start and end dates.\n",
    "\n",
    "Alter the `search_params` code above so that the request only searches for articles in the year 2005.\n",
    "\n",
    "You're gonna need to look at the documentation [here](http://developer.nytimes.com/docs/read/article_search_api_v2) to see how to do this."
   ]
  },
  {
   "cell_type": "code",
   "execution_count": 19,
   "metadata": {
    "collapsed": false
   },
   "outputs": [
    {
     "data": {
      "text/plain": [
       "'http://api.nytimes.com/svc/search/v2/articlesearch.json?q=Prince+music&api-key=13ff759582b04c6d8050e178b2dc8d0e'"
      ]
     },
     "execution_count": 19,
     "metadata": {},
     "output_type": "execute_result"
    }
   ],
   "source": [
    "#YOUR CODE HERE\n",
    "\n",
    "# Uncomment to test\n",
    "# r = requests.get(base_url+response_format, params=search_params)\n",
    "# r.url"
   ]
  },
  {
   "cell_type": "markdown",
   "metadata": {},
   "source": [
    "### Challenge 2:  Specifying a results page\n",
    "\n",
    "The above will return the first 10 results. To get the next ten, you need to add a \"page\" parameter. Change the search parameters above to get the second 10 resuls. "
   ]
  },
  {
   "cell_type": "code",
   "execution_count": 38,
   "metadata": {
    "collapsed": false
   },
   "outputs": [
    {
     "name": "stdout",
     "output_type": "stream",
     "text": [
      "http://api.nytimes.com/svc/search/v2/articlesearch.json?api-key=c98c46b9278b4f4e98acb812ec3d9dbb&q=Prince+music&end_date=20050131&begin_date=20050101&page=1\n"
     ]
    }
   ],
   "source": [
    "search_params = {\"q\":\"Prince music\",\n",
    "                 \"begin_date\": \"20050101\",\n",
    "                 \"end_date\": \"20050131\",\n",
    "                 \"page\": \"1\",\n",
    "                 \"api-key\":key}  \n",
    "# make request\n",
    "r = requests.get(base_url+response_format, params=search_params)\n",
    "\n",
    "print(r.url)\n",
    "\n",
    "# Uncomment to test\n",
    "# r = requests.get(base_url+response_format, params=search_params)\n",
    "# r.url"
   ]
  },
  {
   "cell_type": "markdown",
   "metadata": {},
   "source": [
    "## 2. Parsing the response text"
   ]
  },
  {
   "cell_type": "markdown",
   "metadata": {},
   "source": [
    "We can read the content of the server’s response using `.text`"
   ]
  },
  {
   "cell_type": "code",
   "execution_count": 9,
   "metadata": {
    "collapsed": false
   },
   "outputs": [
    {
     "name": "stdout",
     "output_type": "stream",
     "text": [
      "{\"response\":{\"meta\":{\"hits\":19,\"time\":86,\"offset\":10},\"docs\":[{\"web_url\":\"http:\\/\\/www.nytimes.com\\/2005\\/01\\/13\\/arts\\/dance\\/13cind.html\",\"snippet\":\"The American premiere of Aleksei Ratmansky's version of \\\"Cinderella\\\" was a wildly uneven occasion, choreographically eccentric and scenically impoverished.\",\"lead_paragraph\":\"The American premiere of Aleksei Ratmansky's version of ''Cinderella'' for the Kirov Ballet in the Kennedy Center Opera House on Monday night was a wildly uneven occasion, choreographically eccentric and scenically impoverished. The impoverishment was due in part to Mr. Ratmansky's incoherently chic conception, in part to the inevitable tweakings and trimmings this production must have gone through over its three years of life and to the exigencies of the steady touring to which most Kirov productions are subjected.\",\"abstract\":\"John Rockwell reviews American premiere of Aleksei Ramansky's version of Cinderella for Kirov Ballet at Kennedy Center Opera House; photo\n"
     ]
    }
   ],
   "source": [
    "# Inspect the content of the response, parsing the result as text\n",
    "response_text= r.text\n",
    "print(response_text[:1000])"
   ]
  },
  {
   "cell_type": "markdown",
   "metadata": {},
   "source": [
    "What you see here is JSON text, encoded as unicode text. JSON stands for \"Javascript object notation.\" It has a very similar structure to a python dictionary -- both are built on key/value pairs. This makes it easy to convert JSON response to a python dictionary."
   ]
  },
  {
   "cell_type": "code",
   "execution_count": 10,
   "metadata": {
    "collapsed": false
   },
   "outputs": [],
   "source": [
    "# Convert JSON response to a dictionary\n",
    "data=json.loads(response_text)\n",
    "# data"
   ]
  },
  {
   "cell_type": "markdown",
   "metadata": {},
   "source": [
    "That looks intimidating! But it's really just a big dictionary. Let's see what keys we got in there."
   ]
  },
  {
   "cell_type": "code",
   "execution_count": 11,
   "metadata": {
    "collapsed": false
   },
   "outputs": [
    {
     "data": {
      "text/plain": [
       "dict_keys(['response', 'copyright', 'status'])"
      ]
     },
     "execution_count": 11,
     "metadata": {},
     "output_type": "execute_result"
    }
   ],
   "source": [
    "data.keys()"
   ]
  },
  {
   "cell_type": "code",
   "execution_count": 12,
   "metadata": {
    "collapsed": false
   },
   "outputs": [
    {
     "data": {
      "text/plain": [
       "'OK'"
      ]
     },
     "execution_count": 12,
     "metadata": {},
     "output_type": "execute_result"
    }
   ],
   "source": [
    "# this is boring\n",
    "data['status']"
   ]
  },
  {
   "cell_type": "code",
   "execution_count": 13,
   "metadata": {
    "collapsed": false
   },
   "outputs": [
    {
     "data": {
      "text/plain": [
       "'Copyright (c) 2013 The New York Times Company.  All Rights Reserved.'"
      ]
     },
     "execution_count": 13,
     "metadata": {},
     "output_type": "execute_result"
    }
   ],
   "source": [
    "# so is this\n",
    "data['copyright']"
   ]
  },
  {
   "cell_type": "code",
   "execution_count": 14,
   "metadata": {
    "collapsed": false
   },
   "outputs": [],
   "source": [
    "# this is what we want!\n",
    "# data['response']"
   ]
  },
  {
   "cell_type": "code",
   "execution_count": 16,
   "metadata": {
    "collapsed": false
   },
   "outputs": [
    {
     "data": {
      "text/plain": [
       "dict_keys(['docs', 'meta'])"
      ]
     },
     "execution_count": 16,
     "metadata": {},
     "output_type": "execute_result"
    }
   ],
   "source": [
    "data['response'].keys()"
   ]
  },
  {
   "cell_type": "code",
   "execution_count": 17,
   "metadata": {
    "collapsed": false
   },
   "outputs": [
    {
     "data": {
      "text/plain": [
       "dict_keys(['offset', 'time', 'hits'])"
      ]
     },
     "execution_count": 17,
     "metadata": {},
     "output_type": "execute_result"
    }
   ],
   "source": [
    "data['response']['meta'].keys()"
   ]
  },
  {
   "cell_type": "code",
   "execution_count": 18,
   "metadata": {
    "collapsed": false
   },
   "outputs": [
    {
     "data": {
      "text/plain": [
       "19"
      ]
     },
     "execution_count": 18,
     "metadata": {},
     "output_type": "execute_result"
    }
   ],
   "source": [
    "data['response']['meta']['hits'] # whoa - that's a lot of hits!"
   ]
  },
  {
   "cell_type": "code",
   "execution_count": 19,
   "metadata": {
    "collapsed": false
   },
   "outputs": [
    {
     "data": {
      "text/plain": [
       "list"
      ]
     },
     "execution_count": 19,
     "metadata": {},
     "output_type": "execute_result"
    }
   ],
   "source": [
    "# data['response']['docs']\n",
    "type(data['response']['docs'])"
   ]
  },
  {
   "cell_type": "markdown",
   "metadata": {},
   "source": [
    "That looks what we want! Let's put that in it's own variable."
   ]
  },
  {
   "cell_type": "code",
   "execution_count": 20,
   "metadata": {
    "collapsed": false
   },
   "outputs": [],
   "source": [
    "docs = data['response']['docs']"
   ]
  },
  {
   "cell_type": "code",
   "execution_count": 23,
   "metadata": {
    "collapsed": false
   },
   "outputs": [
    {
     "data": {
      "text/plain": [
       "{'_id': '57f3fbc2253f0a30af7acbce',\n",
       " 'abstract': 'Opening of newly completed Paisley Park museum, in former studio of musician Prince, is delayed as Chanhassen, Minn, City Council postpones rezoning request.',\n",
       " 'blog': [],\n",
       " 'byline': {'original': 'By BEN SISARIO',\n",
       "  'person': [{'firstname': 'Ben',\n",
       "    'lastname': 'SISARIO',\n",
       "    'organization': '',\n",
       "    'rank': 1,\n",
       "    'role': 'reported'}]},\n",
       " 'document_type': 'article',\n",
       " 'headline': {'main': 'Prince’s Paisley Park Museum Opening Snared by Zoning Vote',\n",
       "  'print_headline': 'Opening Challenge for Prince Museum'},\n",
       " 'keywords': [{'is_major': 'N',\n",
       "   'name': 'subject',\n",
       "   'rank': '1',\n",
       "   'value': 'Museums'},\n",
       "  {'is_major': 'N',\n",
       "   'name': 'persons',\n",
       "   'rank': '3',\n",
       "   'value': 'Prince (1958- )'},\n",
       "  {'is_major': 'Y',\n",
       "   'name': 'glocations',\n",
       "   'rank': '4',\n",
       "   'value': 'Chanhassen (Minn)'},\n",
       "  {'is_major': 'Y', 'name': 'subject', 'rank': '5', 'value': 'Zoning'},\n",
       "  {'is_major': 'N',\n",
       "   'name': 'subject',\n",
       "   'rank': '6',\n",
       "   'value': 'Pop and Rock Music'},\n",
       "  {'is_major': 'Y', 'name': 'subject', 'rank': '7', 'value': 'Music'}],\n",
       " 'lead_paragraph': 'The musician’s studio complex, said to showcase artifacts from his personal archives, has been granted a temporary permit to open for three dates.',\n",
       " 'multimedia': [{'height': 126,\n",
       "   'legacy': {'wide': 'images/2016/10/05/arts/04PAISLEYPARK/04PAISLEYPARK-thumbWide.jpg',\n",
       "    'wideheight': '126',\n",
       "    'widewidth': '190'},\n",
       "   'subtype': 'wide',\n",
       "   'type': 'image',\n",
       "   'url': 'images/2016/10/05/arts/04PAISLEYPARK/04PAISLEYPARK-thumbWide.jpg',\n",
       "   'width': 190},\n",
       "  {'height': 400,\n",
       "   'legacy': {'xlarge': 'images/2016/10/05/arts/04PAISLEYPARK/04PAISLEYPARK-articleLarge.jpg',\n",
       "    'xlargeheight': '400',\n",
       "    'xlargewidth': '600'},\n",
       "   'subtype': 'xlarge',\n",
       "   'type': 'image',\n",
       "   'url': 'images/2016/10/05/arts/04PAISLEYPARK/04PAISLEYPARK-articleLarge.jpg',\n",
       "   'width': 600},\n",
       "  {'height': 75,\n",
       "   'legacy': {'thumbnail': 'images/2016/10/05/arts/04PAISLEYPARK/04PAISLEYPARK-thumbStandard.jpg',\n",
       "    'thumbnailheight': '75',\n",
       "    'thumbnailwidth': '75'},\n",
       "   'subtype': 'thumbnail',\n",
       "   'type': 'image',\n",
       "   'url': 'images/2016/10/05/arts/04PAISLEYPARK/04PAISLEYPARK-thumbStandard.jpg',\n",
       "   'width': 75}],\n",
       " 'news_desk': 'Culture',\n",
       " 'print_page': '3',\n",
       " 'pub_date': '2016-10-05T00:00:00Z',\n",
       " 'section_name': 'Arts',\n",
       " 'slideshow_credits': None,\n",
       " 'snippet': 'The musician’s studio complex, said to showcase artifacts from his personal archives, has been granted a temporary permit to open for three dates.',\n",
       " 'source': 'The New York Times',\n",
       " 'subsection_name': 'Music',\n",
       " 'type_of_material': 'News',\n",
       " 'web_url': 'http://www.nytimes.com/2016/10/05/arts/music/prince-paisley-park-museum-delayed.html',\n",
       " 'word_count': None}"
      ]
     },
     "execution_count": 23,
     "metadata": {},
     "output_type": "execute_result"
    }
   ],
   "source": [
    "docs[1]"
   ]
  },
  {
   "cell_type": "markdown",
   "metadata": {},
   "source": [
    "## 3. Putting everything together to get all the articles."
   ]
  },
  {
   "cell_type": "markdown",
   "metadata": {},
   "source": [
    "### That's great. But we only have 10 items. The original response said we had 30528 hits! Which means we have to make 30528 /10, or 3053 requests to get them all.*\n",
    "#### *Note - in general, most free APIs have limits on how often you can \"call\" them, i.e., how many requests you can send. For the NYT, the daily limit is 1000, and you are limited to 5 calls/sec. At first, this might sound like plenty--but in general, it's not. You'll want to be creative with your search terms and date restrictions to ensure that you have a manageable number of calls to the API. Going forward, we're just going to look at the 2016 results - a much more manageable 523 (53 calls). \n",
    "\n",
    "### Sounds like a job for a loop! \n",
    "\n",
    "But first, let's review what we've done so far."
   ]
  },
  {
   "cell_type": "code",
   "execution_count": 39,
   "metadata": {
    "collapsed": false
   },
   "outputs": [
    {
     "name": "stdout",
     "output_type": "stream",
     "text": [
      "number of hits: 52\n"
     ]
    }
   ],
   "source": [
    "# set key\n",
    "key=\"ef9055ba947dd842effe0ecf5e338af9:15:72340235\"\n",
    "\n",
    "# set base url\n",
    "base_url=\"http://api.nytimes.com/svc/search/v2/articlesearch\"\n",
    "\n",
    "# set response format\n",
    "response_format=\".json\"\n",
    "\n",
    "# set search parameters\n",
    "search_params = {\"q\":\"Prince music\",\n",
    "                 \"api-key\":key,\n",
    "                 \"begin_date\":\"20150101\", # date must be in YYYYMMDD format\n",
    "                 \"end_date\":\"20150131\"}\n",
    "\n",
    "# make request\n",
    "rr = requests.get(base_url+response_format, params=search_params)\n",
    "    \n",
    "# convert to a dictionary\n",
    "data=json.loads(rr.text)\n",
    "    \n",
    "# get number of hits\n",
    "hits = data['response']['meta']['hits']\n",
    "print(\"number of hits: \" + str(hits))\n",
    "    \n",
    "# get number of pages\n",
    "pages = int(math.ceil(hits/10))"
   ]
  },
  {
   "cell_type": "code",
   "execution_count": 40,
   "metadata": {
    "collapsed": false
   },
   "outputs": [
    {
     "name": "stdout",
     "output_type": "stream",
     "text": [
      "collecting page 0\n",
      "collecting page 1\n",
      "collecting page 2\n"
     ]
    },
    {
     "ename": "KeyError",
     "evalue": "'response'",
     "output_type": "error",
     "traceback": [
      "\u001b[0;31m---------------------------------------------------------------------------\u001b[0m",
      "\u001b[0;31mKeyError\u001b[0m                                  Traceback (most recent call last)",
      "\u001b[0;32m<ipython-input-40-79dfeec8243d>\u001b[0m in \u001b[0;36m<module>\u001b[0;34m()\u001b[0m\n\u001b[1;32m     16\u001b[0m \u001b[0;34m\u001b[0m\u001b[0m\n\u001b[1;32m     17\u001b[0m     \u001b[0;31m# get just the docs\u001b[0m\u001b[0;34m\u001b[0m\u001b[0;34m\u001b[0m\u001b[0m\n\u001b[0;32m---> 18\u001b[0;31m     \u001b[0mdocs\u001b[0m \u001b[0;34m=\u001b[0m \u001b[0mdata\u001b[0m\u001b[0;34m[\u001b[0m\u001b[0;34m'response'\u001b[0m\u001b[0;34m]\u001b[0m\u001b[0;34m[\u001b[0m\u001b[0;34m'docs'\u001b[0m\u001b[0;34m]\u001b[0m\u001b[0;34m\u001b[0m\u001b[0m\n\u001b[0m\u001b[1;32m     19\u001b[0m \u001b[0;34m\u001b[0m\u001b[0m\n\u001b[1;32m     20\u001b[0m     \u001b[0;31m# add those docs to the big list\u001b[0m\u001b[0;34m\u001b[0m\u001b[0;34m\u001b[0m\u001b[0m\n",
      "\u001b[0;31mKeyError\u001b[0m: 'response'"
     ]
    }
   ],
   "source": [
    "# make an empty list where we'll hold all of our docs for every page\n",
    "all_docs = [] \n",
    "    \n",
    "# now we're ready to loop through the pages\n",
    "for i in range(pages):\n",
    "    print(\"collecting page \" + str(i))\n",
    "        \n",
    "    # set the page parameter\n",
    "    search_params['page'] = i\n",
    "        \n",
    "    # make request\n",
    "    rr = requests.get(base_url+response_format, params=search_params)\n",
    "    \n",
    "    # get text and convert to a dictionary\n",
    "    data=json.loads(rr.text)\n",
    "        \n",
    "    # get just the docs\n",
    "    docs = data['response']['docs']\n",
    "        \n",
    "    # add those docs to the big list\n",
    "    all_docs = all_docs + docs"
   ]
  },
  {
   "cell_type": "code",
   "execution_count": 41,
   "metadata": {
    "collapsed": false
   },
   "outputs": [
    {
     "name": "stdout",
     "output_type": "stream",
     "text": [
      "{'message': 'API rate limit exceeded'}\n"
     ]
    }
   ],
   "source": [
    "print(data)"
   ]
  },
  {
   "cell_type": "code",
   "execution_count": 31,
   "metadata": {
    "collapsed": false
   },
   "outputs": [
    {
     "data": {
      "text/plain": [
       "10"
      ]
     },
     "execution_count": 31,
     "metadata": {},
     "output_type": "execute_result"
    }
   ],
   "source": [
    "len(all_docs)"
   ]
  },
  {
   "cell_type": "markdown",
   "metadata": {},
   "source": [
    "### Challenge 3: Make a function\n",
    "\n",
    "Turn the code above into a function that inputs a search term, and returns all the documents containing that search term in 2014."
   ]
  },
  {
   "cell_type": "code",
   "execution_count": 47,
   "metadata": {
    "collapsed": true
   },
   "outputs": [],
   "source": [
    "def apisearch(q, begin):\n",
    "    # set key\n",
    "    key=\"c98c46b9278b4f4e98acb812ec3d9dbb\"\n",
    "    # set base url\n",
    "    base_url=\"http://api.nytimes.com/svc/search/v2/articlesearch\"\n",
    "    # set response format\n",
    "    response_format=\".json\" \n",
    "    search_params = {\"q\": q,\n",
    "                 \"begin_date\": begin,\n",
    "                 \"end_date\": \"20141231\",\n",
    "                 \"page\": \"1\",\n",
    "                 \"api-key\":key}  \n",
    "    # make request\n",
    "    r = requests.get(base_url+response_format, params=search_params)\n",
    "    print(r.url)"
   ]
  },
  {
   "cell_type": "code",
   "execution_count": 48,
   "metadata": {
    "collapsed": false
   },
   "outputs": [
    {
     "name": "stdout",
     "output_type": "stream",
     "text": [
      "http://api.nytimes.com/svc/search/v2/articlesearch.json?api-key=c98c46b9278b4f4e98acb812ec3d9dbb&q=Clinton&end_date=20141231&begin_date=20140101&page=1\n"
     ]
    }
   ],
   "source": [
    "apisearch(\"Clinton\", \"20140101\")"
   ]
  },
  {
   "cell_type": "markdown",
   "metadata": {},
   "source": [
    "## 4. Formatting and Exporting\n",
    "\n",
    "Let's take another look at one of these documents."
   ]
  },
  {
   "cell_type": "code",
   "execution_count": 42,
   "metadata": {
    "collapsed": false
   },
   "outputs": [
    {
     "data": {
      "text/plain": [
       "{'_id': '54b4353c38f0d8623a353df7',\n",
       " 'abstract': 'Stephen Holden reviews performance celebrating theatrical collaborations of composer Stephen Sondheim and director Harold Prince as part of Lyrics and Lyricists series at 92nd Street Y.',\n",
       " 'blog': [],\n",
       " 'byline': {'contributor': '',\n",
       "  'original': 'By STEPHEN HOLDEN',\n",
       "  'person': [{'firstname': 'Stephen',\n",
       "    'lastname': 'HOLDEN',\n",
       "    'organization': '',\n",
       "    'rank': 1,\n",
       "    'role': 'reported'}]},\n",
       " 'document_type': 'article',\n",
       " 'headline': {'content_kicker': 'Music Review',\n",
       "  'main': 'Celebrating 2 Broadway Powerhouses, Bit by Bit',\n",
       "  'print_headline': 'Celebrating 2 Broadway Powerhouses, Bit by Bit',\n",
       "  'seo': 'David Loud&#8217;s &#8216;A Good Thing Going&#8217; Honors Sondheim and Prince'},\n",
       " 'keywords': [{'is_major': 'Y',\n",
       "   'name': 'subject',\n",
       "   'rank': '1',\n",
       "   'value': 'Music'},\n",
       "  {'is_major': 'Y',\n",
       "   'name': 'organizations',\n",
       "   'rank': '2',\n",
       "   'value': '92nd Street Y'},\n",
       "  {'is_major': 'Y',\n",
       "   'name': 'persons',\n",
       "   'rank': '3',\n",
       "   'value': 'Sondheim, Stephen'},\n",
       "  {'is_major': 'Y', 'name': 'subject', 'rank': '4', 'value': 'Theater'},\n",
       "  {'is_major': 'Y',\n",
       "   'name': 'persons',\n",
       "   'rank': '5',\n",
       "   'value': 'Prince, Harold'}],\n",
       " 'lead_paragraph': 'David Loud conducts an erudite survey of collaborations by Stephen Sondheim and Harold Prince.',\n",
       " 'multimedia': [{'height': 126,\n",
       "   'legacy': {'wide': 'images/2015/01/13/arts/LYRICISTS/LYRICISTS-thumbWide.jpg',\n",
       "    'wideheight': '126',\n",
       "    'widewidth': '190'},\n",
       "   'subtype': 'wide',\n",
       "   'type': 'image',\n",
       "   'url': 'images/2015/01/13/arts/LYRICISTS/LYRICISTS-thumbWide.jpg',\n",
       "   'width': 190},\n",
       "  {'height': 834,\n",
       "   'legacy': {'xlarge': 'images/2015/01/13/arts/LYRICISTS/LYRICISTS-articleLarge.jpg',\n",
       "    'xlargeheight': '834',\n",
       "    'xlargewidth': '600'},\n",
       "   'subtype': 'xlarge',\n",
       "   'type': 'image',\n",
       "   'url': 'images/2015/01/13/arts/LYRICISTS/LYRICISTS-articleLarge.jpg',\n",
       "   'width': 600},\n",
       "  {'height': 75,\n",
       "   'legacy': {'thumbnail': 'images/2015/01/13/arts/LYRICISTS/LYRICISTS-thumbStandard.jpg',\n",
       "    'thumbnailheight': '75',\n",
       "    'thumbnailwidth': '75'},\n",
       "   'subtype': 'thumbnail',\n",
       "   'type': 'image',\n",
       "   'url': 'images/2015/01/13/arts/LYRICISTS/LYRICISTS-thumbStandard.jpg',\n",
       "   'width': 75}],\n",
       " 'news_desk': 'Culture',\n",
       " 'print_page': None,\n",
       " 'pub_date': '2015-01-13T00:00:00Z',\n",
       " 'section_name': 'Arts',\n",
       " 'slideshow_credits': None,\n",
       " 'snippet': 'David Loud conducts an erudite survey of collaborations by Stephen Sondheim and Harold Prince.',\n",
       " 'source': 'The New York Times',\n",
       " 'subsection_name': 'Music',\n",
       " 'type_of_material': 'Review',\n",
       " 'web_url': 'http://www.nytimes.com/2015/01/13/arts/music/david-louds-a-good-thing-going-honors-sondheim-and-prince.html',\n",
       " 'word_count': '396'}"
      ]
     },
     "execution_count": 42,
     "metadata": {},
     "output_type": "execute_result"
    }
   ],
   "source": [
    "all_docs[0]"
   ]
  },
  {
   "cell_type": "markdown",
   "metadata": {},
   "source": [
    "This is all great, but it's pretty messy. What we’d really like to to have, eventually, is a CSV, with each row representing an article, and each column representing something about that article (header, date, etc). As we saw before, the best way to do this is to make a lsit of dictionaries, with each dictionary representing an article and each dictionary representing a field of metadata from that article (e.g. headline, date, etc.) We can do this with a custom function:"
   ]
  },
  {
   "cell_type": "code",
   "execution_count": 17,
   "metadata": {
    "collapsed": true
   },
   "outputs": [],
   "source": [
    "def format_articles(unformatted_docs):\n",
    "    '''\n",
    "    This function takes in a list of documents returned by the NYT api \n",
    "    and parses the documents into a list of dictionaries, \n",
    "    with 'id', 'header', and 'date' keys\n",
    "    '''\n",
    "    formatted = []\n",
    "    for i in unformatted_docs:\n",
    "        dic = {}\n",
    "        dic['id'] = i['_id']\n",
    "        dic['headline'] = i['headline']['main'].encode(\"utf8\")\n",
    "        dic['date'] = i['pub_date'][0:10] # cutting time of day.\n",
    "        formatted.append(dic)\n",
    "    return(formatted) "
   ]
  },
  {
   "cell_type": "code",
   "execution_count": 18,
   "metadata": {
    "collapsed": false
   },
   "outputs": [],
   "source": [
    "all_formatted = format_articles(all_docs)"
   ]
  },
  {
   "cell_type": "code",
   "execution_count": 19,
   "metadata": {
    "collapsed": false
   },
   "outputs": [
    {
     "data": {
      "text/plain": [
       "[{'date': '2016-09-17',\n",
       "  'headline': b'Prince Memorial Concert to Feature Stevie Wonder and Others',\n",
       "  'id': '57dc61e138f0d84ba6a0c6c6'},\n",
       " {'date': '2016-09-03',\n",
       "  'headline': b'Prince\\xe2\\x80\\x99s Old Band Resurrects Him Through His Songs',\n",
       "  'id': '57c9f10f38f0d8656933ff9f'},\n",
       " {'date': '2016-08-26',\n",
       "  'headline': b'Paisley Park, Prince\\xe2\\x80\\x99s Estate, Will Open as a Museum',\n",
       "  'id': '57bf145138f0d850d30c939e'},\n",
       " {'date': '2016-09-08',\n",
       "  'headline': b'Another Side of Bob Dylan: Iron Sculptor',\n",
       "  'id': '57d0545438f0d82f70ca102a'},\n",
       " {'date': '2016-07-09',\n",
       "  'headline': b'The Revolution: A \\xe2\\x80\\x98Purple Rain\\xe2\\x80\\x99 Reunion in Prince\\xe2\\x80\\x99s Honor',\n",
       "  'id': '577fe62f38f0d8706f764119'}]"
      ]
     },
     "execution_count": 19,
     "metadata": {},
     "output_type": "execute_result"
    }
   ],
   "source": [
    "all_formatted[:5]"
   ]
  },
  {
   "cell_type": "markdown",
   "metadata": {},
   "source": [
    "### Challenge 4: Export the data to a CSV."
   ]
  },
  {
   "cell_type": "code",
   "execution_count": 24,
   "metadata": {
    "collapsed": false
   },
   "outputs": [],
   "source": [
    "import csv\n",
    "keys = all_formatted[0].keys()\n",
    "with open('article_API.csv', 'w') as output_file:\n",
    "    dict_writer = csv.DictWriter(output_file, keys)\n",
    "    dict_writer.writeheader()\n",
    "    dict_writer.writerows(all_formatted)\n",
    "    "
   ]
  },
  {
   "cell_type": "code",
   "execution_count": null,
   "metadata": {
    "collapsed": true
   },
   "outputs": [],
   "source": []
  }
 ],
 "metadata": {
  "kernelspec": {
   "display_name": "Python [py3k]",
   "language": "python",
   "name": "Python [py3k]"
  },
  "language_info": {
   "codemirror_mode": {
    "name": "ipython",
    "version": 3
   },
   "file_extension": ".py",
   "mimetype": "text/x-python",
   "name": "python",
   "nbconvert_exporter": "python",
   "pygments_lexer": "ipython3",
   "version": "3.5.2"
  }
 },
 "nbformat": 4,
 "nbformat_minor": 0
}
