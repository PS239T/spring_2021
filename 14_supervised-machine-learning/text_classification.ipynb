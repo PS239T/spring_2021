{
 "cells": [
  {
   "cell_type": "markdown",
   "metadata": {},
   "source": [
    "# Text classification "
   ]
  },
  {
   "cell_type": "markdown",
   "metadata": {},
   "source": [
    "Text classification is one of the most popular applicaitons of supervised learning (e.g., spam filtering). Since this course focuses on technical skills, we don't cover theoretical aspects of machine learning. \n",
    "\n",
    "### Key ideas\n",
    "- It is **supervised learning** because we start the analysis with **a target sample**. \n",
    "- It is **classification** because the target sample (seen data) and the target (unseen data) are **categorical variables**. \n",
    "- If the goal (labeling the output) is to identify **yes or no**, then it is **binary classification**.\n",
    "- If the goal is to identify **discrete values**, then it is multiclass or **multinomial classification**. \n",
    "\n",
    "### Workflow\n",
    "1. Prepapre a hand-labeled sample from the target data. \n",
    "2. Preprocess the sample and split the sample into the train and test set.\n",
    "3. Build and train a model using the train set. \n",
    "4. Do cross-validation by applying the model to the test set. \n",
    "5. Use the model to label the unseen data.\n",
    "\n",
    "What I'm presenting here is a simpilfied version of the code I used for my disseratation chapter. Also, I adapted some contents from [Applied Text Analysis with Python](https://proquest-safaribooksonline-com.libproxy.berkeley.edu/book/programming/python/9781491963036/5dot-classification-for-text-analysis/idm140629385710352_html) by Bengfort (2018). The book is not thoeretically deep, but provides good technical details.\n"
   ]
  },
  {
   "cell_type": "markdown",
   "metadata": {},
   "source": [
    "## Setup\n",
    "\n",
    "### Load libraries\n",
    "\n",
    "Not all of these libraries are needed to do this tutorial."
   ]
  },
  {
   "cell_type": "code",
   "execution_count": 1,
   "metadata": {},
   "outputs": [
    {
     "name": "stderr",
     "output_type": "stream",
     "text": [
      "Using TensorFlow backend.\n"
     ]
    }
   ],
   "source": [
    "%matplotlib inline\n",
    "import os\n",
    "import warnings\n",
    "warnings.simplefilter(action='ignore', category=FutureWarning)\n",
    "import numpy as np # for large data \n",
    "import pandas as pd # for data manipulation and analysis\n",
    "from subprocess import check_output\n",
    "import matplotlib.pyplot as plt\n",
    "import seaborn as sns\n",
    "import gensim, nltk, re, string, xgboost, textblob, spacy\n",
    "\n",
    "# NLTK\n",
    "\n",
    "from nltk import word_tokenize, sent_tokenize # for tokenization\n",
    "from nltk.corpus import stopwords # for stop words\n",
    "\n",
    "stop = stopwords.words('english')\n",
    "\n",
    "from nltk.stem import WordNetLemmatizer # lemmatizer\n",
    "from nltk.stem import LancasterStemmer, WordNetLemmatizer\n",
    "from nltk import tokenize\n",
    "from collections import Counter\n",
    "\n",
    "import contractions\n",
    "import inflect\n",
    "from bs4 import BeautifulSoup\n",
    "\n",
    "import unicodedata\n",
    "\n",
    "from pattern.en import tag\n",
    "from nltk.corpus import wordnet as wn\n",
    "\n",
    "# Models\n",
    "\n",
    "from sklearn import model_selection, preprocessing, linear_model, naive_bayes, metrics, svm\n",
    "from sklearn.feature_extraction.text import CountVectorizer, TfidfVectorizer # for bag of words, tfidf \n",
    "from sklearn.feature_extraction.text import TfidfTransformer\n",
    "from sklearn import decomposition, ensemble \n",
    "from sklearn.utils.multiclass import unique_labels\n",
    "\n",
    "from sklearn.linear_model import LogisticRegression\n",
    "from sklearn.ensemble import RandomForestClassifier\n",
    "from sklearn.naive_bayes import MultinomialNB\n",
    "from sklearn.linear_model import SGDClassifier\n",
    "\n",
    "from sklearn.model_selection import train_test_split\n",
    "from sklearn.metrics import confusion_matrix\n",
    "from sklearn.ensemble import RandomForestClassifier\n",
    "sns.set()\n",
    "\n",
    "from gensim.test.utils import common_texts, get_tmpfile\n",
    "from gensim.models import Word2Vec # for word2vec\n",
    "\n",
    "from keras.preprocessing import text, sequence \n",
    "from keras import layers, models, optimizers"
   ]
  },
  {
   "cell_type": "markdown",
   "metadata": {},
   "source": [
    "### Load data\n",
    "\n",
    "I have a sample data labeled by my undergraduate RAs."
   ]
  },
  {
   "cell_type": "code",
   "execution_count": 2,
   "metadata": {},
   "outputs": [],
   "source": [
    "\n",
    "# Load data using pandas library \n",
    "aa_newspapers = pd.read_csv(\"/home/jae/PS239T/14_supervised-machine-learning/data/african_american_newspapers.csv\")\n"
   ]
  },
  {
   "cell_type": "code",
   "execution_count": 3,
   "metadata": {},
   "outputs": [
    {
     "name": "stdout",
     "output_type": "stream",
     "text": [
      "<class 'pandas.core.frame.DataFrame'>\n",
      "RangeIndex: 1008 entries, 0 to 1007\n",
      "Data columns (total 8 columns):\n",
      "Unnamed: 0         1008 non-null int64\n",
      "author             242 non-null object\n",
      "date               1008 non-null object\n",
      "source             1008 non-null object\n",
      "text               1008 non-null object\n",
      "year               1008 non-null int64\n",
      "linked_progress    1008 non-null int64\n",
      "linked_hurt        1008 non-null int64\n",
      "dtypes: int64(4), object(4)\n",
      "memory usage: 63.1+ KB\n"
     ]
    }
   ],
   "source": [
    "\n",
    "# Basic information about the sample \n",
    "aa_newspapers.info()\n",
    "\n",
    "# Look at the first 5 rows \n",
    "aa_newspapers.head()\n",
    "\n",
    "# I don't like Unnamed: 0 column, so let's drop it. axis = 1 argument specifies that I'm dropping a column.\n",
    "aa_newspapers = aa_newspapers.drop('Unnamed: 0', axis = 1)"
   ]
  },
  {
   "cell_type": "markdown",
   "metadata": {},
   "source": [
    "## Preprocessing"
   ]
  },
  {
   "cell_type": "markdown",
   "metadata": {},
   "source": [
    "### Remove special characters, punctuations, numbers, and whitespace"
   ]
  },
  {
   "cell_type": "code",
   "execution_count": 4,
   "metadata": {},
   "outputs": [
    {
     "data": {
      "text/plain": [
       "'KTVU\\'s \\'tele-voters\\' were back to being pretty up-tight this week.San Francisco\\'s Mayor Alioto should not apologize to the Black Panthers \"for his remarks about the Sunday night bombings,\" in the opinion of 61 percent.Teachers should not strike if violence is not curbed in high schools - 83 percent to 17.Fifty-three percent did not agree with President Johnson\\'s \"announcement on Vietnam\"; and 56 percent do not think the bombing halt will result in peace in Vietnam ... As a matter of fact, you might say, \"Don\\'t give up the ship\" was the by-word of viewers polled by Channel 2 in its weekly question and answer period.However, the San Francisco-Oakland TV station stressed the continuing non-scientific, \"not necessarily\" representative of community opinion nature of its poll.'"
      ]
     },
     "execution_count": 4,
     "metadata": {},
     "output_type": "execute_result"
    }
   ],
   "source": [
    "# Create a list of things you want to replace with \"\" (basically, deleting them)\n",
    "\n",
    "drop_list = ['/', ':', '\"', '\\n', ',', '\\\\', '-', '\\xa0'] # Special characters and punctuations\n",
    "drop_list.append('\\d+') # Numbers\n",
    "\n",
    "# For loop\n",
    "for i in drop_list:\n",
    "    docs = aa_newspapers['text'].str.replace(i, '', regex = True)\n",
    "    \n",
    "# Remove white space \n",
    "aa_newspapers['text'] = aa_newspapers['text'].str.strip()\n",
    "\n",
    "# Check \n",
    "aa_newspapers['text'][2]"
   ]
  },
  {
   "cell_type": "markdown",
   "metadata": {},
   "source": [
    "### Lower case"
   ]
  },
  {
   "cell_type": "code",
   "execution_count": 5,
   "metadata": {},
   "outputs": [],
   "source": [
    "# Lower case\n",
    "aa_newspapers['text'] = aa_newspapers['text'].str.lower()"
   ]
  },
  {
   "cell_type": "code",
   "execution_count": 6,
   "metadata": {},
   "outputs": [
    {
     "data": {
      "text/plain": [
       "'ktvu\\'s \\'tele-voters\\' were back to being pretty up-tight this week.san francisco\\'s mayor alioto should not apologize to the black panthers \"for his remarks about the sunday night bombings,\" in the opinion of 61 percent.teachers should not strike if violence is not curbed in high schools - 83 percent to 17.fifty-three percent did not agree with president johnson\\'s \"announcement on vietnam\"; and 56 percent do not think the bombing halt will result in peace in vietnam ... as a matter of fact, you might say, \"don\\'t give up the ship\" was the by-word of viewers polled by channel 2 in its weekly question and answer period.however, the san francisco-oakland tv station stressed the continuing non-scientific, \"not necessarily\" representative of community opinion nature of its poll.'"
      ]
     },
     "execution_count": 6,
     "metadata": {},
     "output_type": "execute_result"
    }
   ],
   "source": [
    "# Check\n",
    "aa_newspapers['text'][2]"
   ]
  },
  {
   "cell_type": "markdown",
   "metadata": {},
   "source": [
    "## Model building"
   ]
  },
  {
   "cell_type": "markdown",
   "metadata": {},
   "source": [
    "### Extracting features \n",
    "\n",
    "We need to turn text into numerical vectors called features. There are various ways to do so, ranging from simple bag of words to TF-IDF to word embeddings (e.g., word2vec). In this case, we try bag of words.\n",
    "\n",
    "I adapted some code from [here](https://link.springer.com/chapter/10.1007/978-1-4842-2388-8_4#Sec2)."
   ]
  },
  {
   "cell_type": "code",
   "execution_count": 7,
   "metadata": {},
   "outputs": [],
   "source": [
    "# Extract features "
   ]
  },
  {
   "cell_type": "code",
   "execution_count": 8,
   "metadata": {},
   "outputs": [],
   "source": [
    "\n",
    "## Create a vectorizer \n",
    "vectorizer = CountVectorizer(\n",
    "    min_df = 1,\n",
    "    ngram_range = (1,2),\n",
    "    max_features = 5000,\n",
    "    binary = True)\n"
   ]
  },
  {
   "cell_type": "code",
   "execution_count": 9,
   "metadata": {},
   "outputs": [],
   "source": [
    "\n",
    "## Create a function that builds a model \n",
    "def dtm_train(data, text, column, date):\n",
    "    # Bag of words model\n",
    "    \n",
    "    features = vectorizer.fit_transform(data[text])\n",
    "    \n",
    "    response = data[column].values \n",
    "\n",
    "    # split into train/test datasets \n",
    "\n",
    "    X_train, X_test, y_train, y_test = train_test_split(features, response,\n",
    "                                                        # Randomly split the sample into the training and test sets \n",
    "                                                        # 70% of the sample data goes to the training set, \n",
    "                                                        # and the rest goes to the test set \n",
    "                                                        test_size = 0.3,\n",
    "                                                        # Setting random state is important for reproducibility \n",
    "                                                        random_state = 1234,\n",
    "                                                        # I stratified on the publication date\n",
    "                                                        stratify = data[date])\n",
    "\n",
    "    return(X_train, y_train, X_test, y_test)"
   ]
  },
  {
   "cell_type": "code",
   "execution_count": 10,
   "metadata": {},
   "outputs": [],
   "source": [
    "\n",
    "# linked progress\n",
    "aa_dtm_lp = dtm_train(aa_newspapers, 'text', 'linked_progress', 'year')\n",
    "aa_X_train_lp = aa_dtm_lp[0]\n",
    "aa_y_train_lp = aa_dtm_lp[1]\n",
    "aa_X_test_lp = aa_dtm_lp[2]\n",
    "aa_y_test_lp = aa_dtm_lp[3]\n",
    "\n",
    "# linked hurt \n",
    "aa_dtm_lh = dtm_train(aa_newspapers, 'text', 'linked_hurt', 'year')\n",
    "aa_X_train_lh = aa_dtm_lh[0]\n",
    "aa_y_train_lh = aa_dtm_lh[1]\n",
    "aa_X_test_lh = aa_dtm_lh[2]\n",
    "aa_y_test_lh = aa_dtm_lh[3]"
   ]
  },
  {
   "cell_type": "markdown",
   "metadata": {},
   "source": [
    "### Training a model\n",
    "\n",
    "In the end, we want to apply the model to the unseen data. You might face one of the two problems while going down the road. \n",
    "\n",
    "1. Overfitting: high variance, low bias -- **bad** at making the same predictions on the unseen data, but **good** at making correct predictions (likely happens to a too complicated model)\n",
    "2. Underfitting: low variance, high bias -- **good** at making the same predictions on the unseen data, but **bad** at making correct predictions (likely happens to a too simple model)\n",
    "\n",
    "In short, there is a trade-off between variance (reliability) and bias (validity). You want to find a model that balances between them.\n",
    "\n",
    "![Example](https://cdn-images-1.medium.com/max/1600/1*tBErXYVvTw2jSUYK7thU2A.png)"
   ]
  },
  {
   "cell_type": "markdown",
   "metadata": {},
   "source": [
    "We use confusion matrix to measure the performance of a model. I used plot_confusion_matrix function from [scikit-learn library website](https://scikit-learn.org/stable/auto_examples/model_selection/plot_confusion_matrix.html#sphx-glr-auto-examples-model-selection-plot-confusion-matrix-py) to visualize the matrix."
   ]
  },
  {
   "cell_type": "code",
   "execution_count": 11,
   "metadata": {},
   "outputs": [],
   "source": [
    "def plot_confusion_matrix(y_true, y_pred,\n",
    "                          normalize=False,\n",
    "                          title=None,\n",
    "                          cmap=plt.cm.Blues):\n",
    "    \"\"\"\n",
    "    This function prints and plots the confusion matrix.\n",
    "    Normalization can be applied by setting `normalize=True`.\n",
    "    \"\"\"\n",
    "    \n",
    "    classes = unique_labels(y_true, y_pred)\n",
    "    if not title:\n",
    "        if normalize:\n",
    "            title = 'Normalized confusion matrix'\n",
    "        else:\n",
    "            title = 'Confusion matrix, without normalization'\n",
    "\n",
    "    # Compute confusion matrix\n",
    "    cm = confusion_matrix(y_true, y_pred)\n",
    "    # Only use the labels that appear in the data\n",
    "    if normalize:\n",
    "        cm = cm.astype('float') / cm.sum(axis=1)[:, np.newaxis]\n",
    "        print(\"Normalized confusion matrix\")\n",
    "    else:\n",
    "        print('Confusion matrix, without normalization')\n",
    "\n",
    "    print(cm)\n",
    "\n",
    "    fig, ax = plt.subplots()\n",
    "    im = ax.imshow(cm, interpolation='nearest', cmap=cmap)\n",
    "    ax.figure.colorbar(im, ax=ax)\n",
    "    # We want to show all ticks...\n",
    "    ax.set(xticks=np.arange(cm.shape[1]),\n",
    "           yticks=np.arange(cm.shape[0]),\n",
    "           # ... and label them with the respective list entries\n",
    "           xticklabels=classes, yticklabels=classes,\n",
    "           title=title,\n",
    "           ylabel='True label',\n",
    "           xlabel='Predicted label')\n",
    "\n",
    "    # Rotate the tick labels and set their alignment.\n",
    "    plt.setp(ax.get_xticklabels(), rotation=45, ha=\"right\",\n",
    "             rotation_mode=\"anchor\")\n",
    "\n",
    "    # Loop over data dimensions and create text annotations.\n",
    "    fmt = '.2f' if normalize else 'd'\n",
    "    thresh = cm.max() / 2.\n",
    "    for i in range(cm.shape[0]):\n",
    "        for j in range(cm.shape[1]):\n",
    "            ax.text(j, i, format(cm[i, j], fmt),\n",
    "                    ha=\"center\", va=\"center\",\n",
    "                    color=\"white\" if cm[i, j] > thresh else \"black\")\n",
    "    fig.tight_layout()\n",
    "    return ax"
   ]
  },
  {
   "cell_type": "code",
   "execution_count": 12,
   "metadata": {},
   "outputs": [],
   "source": [
    "# Logistic regression\n",
    "def fit_logistic_regression(X_train, y_train):\n",
    "    model = LogisticRegression(max_iter = 4000)\n",
    "    model.fit(X_train, y_train)\n",
    "    return model\n",
    "\n",
    "# Naive Bayes\n",
    "def fit_bayes(X_train, y_train):\n",
    "    model = MultinomialNB()\n",
    "    model.fit(X_train, y_train)\n",
    "    return model\n",
    "\n",
    "def test_model(model, X_train, y_train, X_test, y_test):\n",
    "    y_pred = model.predict(X_test)\n",
    "    plot_confusion_matrix(y_test, y_pred, normalize = True,\n",
    "                         title = \"Normalized Confusion Matrix\")\n",
    "    return(y_pred)"
   ]
  },
  {
   "cell_type": "code",
   "execution_count": 13,
   "metadata": {},
   "outputs": [],
   "source": [
    "\n",
    "## Linked progress\n",
    "aa_lp = fit_logistic_regression(aa_X_train_lp, aa_y_train_lp)\n",
    "aa_lp_bayes = fit_bayes(aa_X_train_lp, aa_y_train_lp)\n",
    "\n",
    "## Linked hurt \n",
    "aa_lh = fit_logistic_regression(aa_X_train_lh, aa_y_train_lh)\n",
    "aa_lh_bayes = fit_bayes(aa_X_train_lh, aa_y_train_lh)"
   ]
  },
  {
   "cell_type": "markdown",
   "metadata": {},
   "source": [
    "## Model testing \n",
    "\n",
    "The diagonal elements represent the number of points for which the predicted label is equal to the true value. Off-diagonal elements are those that are misclassified by the model. \n"
   ]
  },
  {
   "cell_type": "code",
   "execution_count": 14,
   "metadata": {},
   "outputs": [
    {
     "name": "stdout",
     "output_type": "stream",
     "text": [
      "Linked progress: Logistic regression\n",
      "Normalized confusion matrix\n",
      "[[0.91517857 0.08482143]\n",
      " [0.6835443  0.3164557 ]]\n",
      "Linked progress: Naive Bayes\n",
      "Normalized confusion matrix\n",
      "[[0.74107143 0.25892857]\n",
      " [0.26582278 0.73417722]]\n",
      "Linked hurt: Logistic regression\n",
      "Normalized confusion matrix\n",
      "[[0.97560976 0.02439024]\n",
      " [0.68421053 0.31578947]]\n",
      "Linked hurt: Naive Bayes\n",
      "Normalized confusion matrix\n",
      "[[0.8699187  0.1300813 ]\n",
      " [0.19298246 0.80701754]]\n"
     ]
    },
    {
     "data": {
      "image/png": "[encoded data removed]",
      "text/plain": [
       "<Figure size 432x288 with 2 Axes>"
      ]
     },
     "metadata": {
      "needs_background": "light"
     },
     "output_type": "display_data"
    },
    {
     "data": {
      "image/png": "[encoded data removed]",
      "text/plain": [
       "<Figure size 432x288 with 2 Axes>"
      ]
     },
     "metadata": {
      "needs_background": "light"
     },
     "output_type": "display_data"
    },
    {
     "data": {
      "image/png": "[encoded data removed]",
      "text/plain": [
       "<Figure size 432x288 with 2 Axes>"
      ]
     },
     "metadata": {
      "needs_background": "light"
     },
     "output_type": "display_data"
    },
    {
     "data": {
      "image/png": "[encoded data removed]",
      "text/plain": [
       "<Figure size 432x288 with 2 Axes>"
      ]
     },
     "metadata": {
      "needs_background": "light"
     },
     "output_type": "display_data"
    }
   ],
   "source": [
    "\n",
    "## Linked progress\n",
    "print(\"Linked progress: Logistic regression\")\n",
    "aa_lp_lr_test = test_model(aa_lp, aa_X_train_lp, aa_y_train_lp, aa_X_test_lp, aa_y_test_lp)\n",
    "\n",
    "print(\"Linked progress: Naive Bayes\")\n",
    "aa_lp_bayes_test = test_model(aa_lp_bayes, aa_X_train_lp, aa_y_train_lp, aa_X_test_lp, aa_y_test_lp)\n",
    "\n",
    "## Linked hurt\n",
    "print(\"Linked hurt: Logistic regression\")\n",
    "aa_lh_lr_test = test_model(aa_lh, aa_X_train_lh, aa_y_train_lh, aa_X_test_lh, aa_y_test_lh)\n",
    "\n",
    "print(\"Linked hurt: Naive Bayes\")\n",
    "aa_lh_lr_test = test_model(aa_lh_bayes, aa_X_train_lh, aa_y_train_lh, aa_X_test_lh, aa_y_test_lh)"
   ]
  }
 ],
 "metadata": {
  "kernelspec": {
   "display_name": "Python 3",
   "language": "python",
   "name": "python3"
  },
  "language_info": {
   "codemirror_mode": {
    "name": "ipython",
    "version": 3
   },
   "file_extension": ".py",
   "mimetype": "text/x-python",
   "name": "python",
   "nbconvert_exporter": "python",
   "pygments_lexer": "ipython3",
   "version": "3.6.6"
  }
 },
 "nbformat": 4,
 "nbformat_minor": 2
}
